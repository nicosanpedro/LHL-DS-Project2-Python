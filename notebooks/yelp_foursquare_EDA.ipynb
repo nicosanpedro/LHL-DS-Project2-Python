{
 "cells": [
  {
   "cell_type": "code",
   "execution_count": 2,
   "metadata": {},
   "outputs": [],
   "source": [
    "# imports\n",
    "import requests\n",
    "import os\n",
    "\n",
    "import pandas as pd\n",
    "import numpy as np"
   ]
  },
  {
   "cell_type": "markdown",
   "metadata": {},
   "source": [
    "## 0.0 CITY BIKES"
   ]
  },
  {
   "cell_type": "code",
   "execution_count": 3,
   "metadata": {},
   "outputs": [],
   "source": [
    "#IMPORTING CITY_BIKES_DF\n",
    "\n",
    "df_bike_stations = pd.read_pickle(\"df_stations.pkl\")\n",
    "\n",
    "latitudes = list(df_bike_stations[\"latitude\"])\n",
    "longitudes = list(df_bike_stations[\"longitude\"])"
   ]
  },
  {
   "cell_type": "code",
   "execution_count": 4,
   "metadata": {},
   "outputs": [],
   "source": [
    "#EXTRACTING CITY BIKE'S LATITUDES AND LONGITUDES\n",
    "\n",
    "lat_lon_dict = {\n",
    "    \"lat\": latitudes,\n",
    "    \"lon\": longitudes\n",
    "}    "
   ]
  },
  {
   "cell_type": "code",
   "execution_count": 18,
   "metadata": {},
   "outputs": [],
   "source": [
    "citybikes_df = pd.DataFrame()\n",
    "\n",
    "citybikes_df[\"bike_id\"] = df_bike_stations[\"id\"].copy()\n",
    "citybikes_df[\"bike_lat\"] = df_bike_stations[\"latitude\"].copy()\n",
    "citybikes_df[\"bike_lon\"] = df_bike_stations[\"longitude\"].copy()\n",
    "\n",
    "citybikes_df.to_pickle(\"citybikes_df.pkl\")"
   ]
  },
  {
   "cell_type": "code",
   "execution_count": 19,
   "metadata": {},
   "outputs": [
    {
     "data": {
      "text/html": [
       "<div>\n",
       "<style scoped>\n",
       "    .dataframe tbody tr th:only-of-type {\n",
       "        vertical-align: middle;\n",
       "    }\n",
       "\n",
       "    .dataframe tbody tr th {\n",
       "        vertical-align: top;\n",
       "    }\n",
       "\n",
       "    .dataframe thead th {\n",
       "        text-align: right;\n",
       "    }\n",
       "</style>\n",
       "<table border=\"1\" class=\"dataframe\">\n",
       "  <thead>\n",
       "    <tr style=\"text-align: right;\">\n",
       "      <th></th>\n",
       "      <th>bike_id</th>\n",
       "      <th>bike_lat</th>\n",
       "      <th>bike_lon</th>\n",
       "    </tr>\n",
       "  </thead>\n",
       "  <tbody>\n",
       "    <tr>\n",
       "      <th>0</th>\n",
       "      <td>fb337bbed72e2be090071e199899b2be</td>\n",
       "      <td>43.665269</td>\n",
       "      <td>-79.319796</td>\n",
       "    </tr>\n",
       "    <tr>\n",
       "      <th>1</th>\n",
       "      <td>4ff88d5880e71aa40d34cfe5d09b0ca7</td>\n",
       "      <td>43.671420</td>\n",
       "      <td>-79.445947</td>\n",
       "    </tr>\n",
       "    <tr>\n",
       "      <th>2</th>\n",
       "      <td>a09c67c0b419654d907c9134b108e328</td>\n",
       "      <td>43.666224</td>\n",
       "      <td>-79.317693</td>\n",
       "    </tr>\n",
       "    <tr>\n",
       "      <th>3</th>\n",
       "      <td>d6a9daee68070a8b106cfb598d81308c</td>\n",
       "      <td>43.653236</td>\n",
       "      <td>-79.376716</td>\n",
       "    </tr>\n",
       "    <tr>\n",
       "      <th>4</th>\n",
       "      <td>8f8af40d9388c8a3962559e8681d3db7</td>\n",
       "      <td>43.663722</td>\n",
       "      <td>-79.380288</td>\n",
       "    </tr>\n",
       "  </tbody>\n",
       "</table>\n",
       "</div>"
      ],
      "text/plain": [
       "                            bike_id   bike_lat   bike_lon\n",
       "0  fb337bbed72e2be090071e199899b2be  43.665269 -79.319796\n",
       "1  4ff88d5880e71aa40d34cfe5d09b0ca7  43.671420 -79.445947\n",
       "2  a09c67c0b419654d907c9134b108e328  43.666224 -79.317693\n",
       "3  d6a9daee68070a8b106cfb598d81308c  43.653236 -79.376716\n",
       "4  8f8af40d9388c8a3962559e8681d3db7  43.663722 -79.380288"
      ]
     },
     "execution_count": 19,
     "metadata": {},
     "output_type": "execute_result"
    }
   ],
   "source": [
    "citybikes_df.head()"
   ]
  },
  {
   "cell_type": "markdown",
   "metadata": {},
   "source": [
    " "
   ]
  },
  {
   "cell_type": "markdown",
   "metadata": {},
   "source": [
    "# 1.0 FOURSQUARE API"
   ]
  },
  {
   "cell_type": "code",
   "execution_count": 7,
   "metadata": {},
   "outputs": [],
   "source": [
    "API_KEY = os.environ.get(\"FOURSQUARE_API_KEY\") #PERSONAL API KEY"
   ]
  },
  {
   "cell_type": "code",
   "execution_count": 8,
   "metadata": {},
   "outputs": [],
   "source": [
    "#DEFAULT TEMPLATES\n",
    "\n",
    "fs_url = \"https://api.foursquare.com/v3/places/search\"\n",
    "\n",
    "fs_headers = {\n",
    "    \"Accept\": \"application/json\",\n",
    "    \"Authorization\": API_KEY\n",
    "}"
   ]
  },
  {
   "cell_type": "code",
   "execution_count": 9,
   "metadata": {},
   "outputs": [],
   "source": [
    "#DEFINING THE QUERRY PARAMETERS\n",
    "fs_results_dict = {\n",
    "    \"results\": []\n",
    "}\n",
    "\n",
    "for row in range(len(lat_lon_dict[\"lat\"])):\n",
    "    fs_params = {\n",
    "    \"query\": \"restaurants\",\n",
    "    \"ll\": f\"{lat_lon_dict['lat'][row]},{lat_lon_dict['lon'][row]}\",\n",
    "    \"sort\":\"DISTANCE\",\n",
    "    \"radius\":1000,\n",
    "    \"limit\": 1,\n",
    "    \"rating\":0.0\n",
    "    }\n",
    "    \n",
    "    fs_response = requests.request(\"GET\", fs_url, params=fs_params, headers=fs_headers)\n",
    "    \n",
    "    fs_results_dict[\"results\"].append(fs_response.json()[\"results\"]) \n"
   ]
  },
  {
   "cell_type": "markdown",
   "metadata": {},
   "source": [
    "### SAVING THE RESULTS FROM FOURSQAURE API CALL"
   ]
  },
  {
   "cell_type": "code",
   "execution_count": 10,
   "metadata": {},
   "outputs": [],
   "source": [
    "fs_results_df = pd.DataFrame(fs_results_dict[\"results\"]) #EXTRACTING THE RESULTS FROM JSON FILE\n",
    "fs_results_keys = fs_results_dict[\"results\"][0][0].keys()"
   ]
  },
  {
   "cell_type": "code",
   "execution_count": 11,
   "metadata": {},
   "outputs": [],
   "source": [
    "fs_results_df.to_pickle(\"FS_restaurants_raw.pkl\") #EXPORTING THE RESULT"
   ]
  },
  {
   "cell_type": "code",
   "execution_count": 12,
   "metadata": {},
   "outputs": [],
   "source": [
    "#OPTIONAL: IMPORTING SAVED FS_RESTAURANTS QUERRY\n",
    "fs_results_df = pd.read_pickle(\"FS_restaurants_raw.pkl\")"
   ]
  },
  {
   "cell_type": "markdown",
   "metadata": {},
   "source": [
    "### PARSING THROUGH THE RESULTS DATA TO EXTRACT NEEDED DATA"
   ]
  },
  {
   "cell_type": "code",
   "execution_count": 13,
   "metadata": {},
   "outputs": [],
   "source": [
    "#List variables\n",
    "results_fsq_id = []\n",
    "results_name = []\n",
    "results_distance = []\n",
    "\n",
    "#Dictionary variables\n",
    "results_geocode_dict = []\n",
    "results_category_dict = []\n",
    "results_category_distance = []\n",
    "\n",
    "#parsing through the JSON files\n",
    "for row in fs_results_df[0]:\n",
    "    results_fsq_id.append(row[\"fsq_id\"])\n",
    "    results_name.append(row[\"name\"])\n",
    "    results_geocode_dict.append(row[\"geocodes\"])\n",
    "    results_category_dict.append(row[\"categories\"])\n",
    "    results_distance.append(row[\"distance\"])"
   ]
  },
  {
   "cell_type": "code",
   "execution_count": 14,
   "metadata": {},
   "outputs": [],
   "source": [
    "results_category = []\n",
    "\n",
    "#Parsing through the dcitonary to convert into list\n",
    "for dictionary in results_category_dict:\n",
    "    results_category.append(dictionary[0][\"name\"])\n",
    "#     temp_categories = []\n",
    "#     for element in dictionary:\n",
    "#         temp_categories.append(element[\"name\"])"
   ]
  },
  {
   "cell_type": "code",
   "execution_count": 15,
   "metadata": {},
   "outputs": [],
   "source": [
    "results_latitude =[]\n",
    "results_longitude = []\n",
    "\n",
    "#Parsing through the dcitonary to convert into list\n",
    "for geocode in results_geocode_dict:\n",
    "        results_latitude.append(geocode[\"main\"][\"latitude\"])\n",
    "        results_longitude.append(geocode[\"main\"][\"longitude\"])"
   ]
  },
  {
   "cell_type": "markdown",
   "metadata": {},
   "source": [
    "### SAVING FOURSQUARE API CALL FINAL RESULTS TO DATAFRAME"
   ]
  },
  {
   "cell_type": "code",
   "execution_count": 16,
   "metadata": {},
   "outputs": [],
   "source": [
    "fs_df = pd.DataFrame()\n",
    "\n",
    "fs_df[\"fs_id\"] = results_fsq_id\n",
    "fs_df[\"fs_name\"] = results_name\n",
    "fs_df[\"fs_category\"] = results_category\n",
    "fs_df[\"fs_latitude\"] = results_latitude\n",
    "fs_df[\"fs_longitude\"] = results_longitude\n",
    "fs_df[\"fs_distance\"] = results_distance\n",
    "\n",
    "fs_df.to_pickle(\"fs_df.pkl\") #EXPORTING THE RESULT TO PICKLE FILE"
   ]
  },
  {
   "cell_type": "markdown",
   "metadata": {},
   "source": [
    "# Foursquare DF"
   ]
  },
  {
   "cell_type": "code",
   "execution_count": 17,
   "metadata": {
    "scrolled": false
   },
   "outputs": [
    {
     "data": {
      "text/html": [
       "<div>\n",
       "<style scoped>\n",
       "    .dataframe tbody tr th:only-of-type {\n",
       "        vertical-align: middle;\n",
       "    }\n",
       "\n",
       "    .dataframe tbody tr th {\n",
       "        vertical-align: top;\n",
       "    }\n",
       "\n",
       "    .dataframe thead th {\n",
       "        text-align: right;\n",
       "    }\n",
       "</style>\n",
       "<table border=\"1\" class=\"dataframe\">\n",
       "  <thead>\n",
       "    <tr style=\"text-align: right;\">\n",
       "      <th></th>\n",
       "      <th>0</th>\n",
       "    </tr>\n",
       "  </thead>\n",
       "  <tbody>\n",
       "    <tr>\n",
       "      <th>0</th>\n",
       "      <td>{'fsq_id': '4ad9ebdcf964a520e61b21e3', 'catego...</td>\n",
       "    </tr>\n",
       "    <tr>\n",
       "      <th>1</th>\n",
       "      <td>{'fsq_id': '4bb2941814cfd13a8e2915ab', 'catego...</td>\n",
       "    </tr>\n",
       "    <tr>\n",
       "      <th>2</th>\n",
       "      <td>{'fsq_id': '4b4d2e7bf964a52089cd26e3', 'catego...</td>\n",
       "    </tr>\n",
       "    <tr>\n",
       "      <th>3</th>\n",
       "      <td>{'fsq_id': '529e7344498e18bff5e60191', 'catego...</td>\n",
       "    </tr>\n",
       "    <tr>\n",
       "      <th>4</th>\n",
       "      <td>{'fsq_id': '533d629b498e7452f4a50bda', 'catego...</td>\n",
       "    </tr>\n",
       "  </tbody>\n",
       "</table>\n",
       "</div>"
      ],
      "text/plain": [
       "                                                   0\n",
       "0  {'fsq_id': '4ad9ebdcf964a520e61b21e3', 'catego...\n",
       "1  {'fsq_id': '4bb2941814cfd13a8e2915ab', 'catego...\n",
       "2  {'fsq_id': '4b4d2e7bf964a52089cd26e3', 'catego...\n",
       "3  {'fsq_id': '529e7344498e18bff5e60191', 'catego...\n",
       "4  {'fsq_id': '533d629b498e7452f4a50bda', 'catego..."
      ]
     },
     "execution_count": 17,
     "metadata": {},
     "output_type": "execute_result"
    }
   ],
   "source": [
    "fs_results_df.head()"
   ]
  },
  {
   "cell_type": "markdown",
   "metadata": {},
   "source": [
    " "
   ]
  },
  {
   "cell_type": "markdown",
   "metadata": {},
   "source": [
    " "
   ]
  },
  {
   "cell_type": "markdown",
   "metadata": {},
   "source": [
    " "
   ]
  },
  {
   "cell_type": "markdown",
   "metadata": {},
   "source": [
    "# 2.0 Yelp API"
   ]
  },
  {
   "cell_type": "code",
   "execution_count": 4,
   "metadata": {},
   "outputs": [],
   "source": [
    "yelp_API_KEY = os.environ.get(\"YELP_API_KEY2\")"
   ]
  },
  {
   "cell_type": "code",
   "execution_count": 7,
   "metadata": {},
   "outputs": [],
   "source": [
    "# YELP API TEMPLATE\n",
    "url = \"https://api.yelp.com/v3/businesses/search\"\n",
    "\n",
    "yelp_headers = {\"accept\": \"application/json\",\n",
    "           \"Authorization\": \"Bearer %s\" % yelp_API_KEY\n",
    "          }\n",
    "\n",
    "yelp_response = requests.get(url, headers=yelp_headers)"
   ]
  },
  {
   "cell_type": "code",
   "execution_count": 8,
   "metadata": {},
   "outputs": [],
   "source": [
    "#DEFINING THE QUERRY PARAMETERS\n",
    "yelp_businesses_dict = {\n",
    "    \"businesses\": list()\n",
    "}\n",
    "\n",
    "for i in range(450):\n",
    "    yelp_params = {\n",
    "    \"term\": \"restaurant\",\n",
    "    \"latitude\": lat_lon_dict['lat'][i],\n",
    "    \"longitude\": lat_lon_dict['lon'][i],\n",
    "    \"sort\":\"DISTANCE\",\n",
    "    \"radius\":1000,\n",
    "    \"limit\": 1\n",
    "    }    \n",
    "    yelp_response = requests.get(url, headers=yelp_headers, params=yelp_params)\n",
    "    \n",
    "    yelp_businesses_dict[\"businesses\"].append(yelp_response.json()[\"businesses\"]) "
   ]
  },
  {
   "cell_type": "markdown",
   "metadata": {},
   "source": [
    "### SAVING THE YELP API CALL EXTERNALLY FOR BACKUP"
   ]
  },
  {
   "cell_type": "code",
   "execution_count": 11,
   "metadata": {},
   "outputs": [],
   "source": [
    "yelp_businesses_keys = yelp_response.json()[\"businesses\"][0].keys()\n",
    "yelp_businesses_df = pd.DataFrame(yelp_businesses_dict)"
   ]
  },
  {
   "cell_type": "code",
   "execution_count": 12,
   "metadata": {},
   "outputs": [],
   "source": [
    "yelp_businesses_df.to_pickle(\"YELP_restaurants_raw.pkl\") #EXPORTING THE RESULT"
   ]
  },
  {
   "cell_type": "code",
   "execution_count": 13,
   "metadata": {},
   "outputs": [],
   "source": [
    "#OPTIONAL: IMPORTING SAVED YELP_RESTAURANTS QUERRY\n",
    "yelp_businesses_df = pd.read_pickle(\"YELP_restaurants_raw.pkl\")"
   ]
  },
  {
   "cell_type": "markdown",
   "metadata": {},
   "source": [
    "### PARSING THROUGH THE YELP API RESULTS "
   ]
  },
  {
   "cell_type": "code",
   "execution_count": 53,
   "metadata": {},
   "outputs": [],
   "source": [
    "#List Variables\n",
    "yelp_business_id = []\n",
    "yelp_business_name = []\n",
    "yelp_business_rating = []\n",
    "yelp_business_distance = []\n",
    "\n",
    "#Dictioanry variables\n",
    "yelp_business_coordinates_dict = []\n",
    "yelp_business_categories_dict = []\n",
    "\n",
    "\n",
    "#parsing through the JSON files\n",
    "for row in yelp_businesses_dict[\"businesses\"]:\n",
    "    yelp_business_id.append(row[0][\"id\"])\n",
    "    yelp_business_name.append(row[0][\"name\"])\n",
    "    yelp_business_rating.append(row[0][\"rating\"])\n",
    "    yelp_business_distance.append(row[0][\"distance\"])\n",
    "    yelp_business_coordinates_dict.append(row[0][\"coordinates\"])\n",
    "    yelp_business_categories_dict.append(row[0][\"categories\"])"
   ]
  },
  {
   "cell_type": "code",
   "execution_count": 56,
   "metadata": {},
   "outputs": [],
   "source": [
    "#EXTRACTING THE FIRST CATEGORY\n",
    "yelp_business_categories = []\n",
    "\n",
    "#Parsing through the dcitonary to convert into list\n",
    "for category in yelp_business_categories_dict:\n",
    "    yelp_business_categories.append(category[0][\"title\"])"
   ]
  },
  {
   "cell_type": "code",
   "execution_count": 42,
   "metadata": {},
   "outputs": [],
   "source": [
    "#EXTRACTING THE LONGITUDE AND LATITUDE\n",
    "yelp_business_latitude = []\n",
    "yelp_business_longitude = []\n",
    "\n",
    "#Parsing through the dcitonary to convert into list\n",
    "for coordinates in yelp_business_coordinates_dict:\n",
    "    yelp_business_latitude.append(coordinates[\"latitude\"])\n",
    "    yelp_business_longitude.append(coordinates[\"longitude\"])"
   ]
  },
  {
   "cell_type": "markdown",
   "metadata": {},
   "source": [
    "### SAVING THE YELP API CALL TO FINAL YELP DF"
   ]
  },
  {
   "cell_type": "code",
   "execution_count": 162,
   "metadata": {},
   "outputs": [],
   "source": [
    "yelp_df = pd.DataFrame()\n",
    "\n",
    "yelp_df[\"yelp_id\"] = yelp_business_id\n",
    "yelp_df[\"yelp_name\"] = yelp_business_name\n",
    "yelp_df[\"yelp_category\"] = yelp_business_categories\n",
    "yelp_df[\"yelp_longitude\"] = yelp_business_latitude\n",
    "yelp_df[\"yelp_latitude\"] = yelp_business_longitude\n",
    "yelp_df[\"yelp_distance\"] = yelp_business_distance\n",
    "yelp_df[\"yelp_ratings\"] = yelp_business_rating\n",
    "\n",
    "yelp_df.to_pickle(\"yelp_df.pkl\") #EXPORTING THE RESULT TO PICKLE FILE"
   ]
  },
  {
   "cell_type": "markdown",
   "metadata": {},
   "source": [
    "# Yelp DF"
   ]
  },
  {
   "cell_type": "code",
   "execution_count": 160,
   "metadata": {
    "scrolled": true
   },
   "outputs": [
    {
     "data": {
      "text/html": [
       "<div>\n",
       "<style scoped>\n",
       "    .dataframe tbody tr th:only-of-type {\n",
       "        vertical-align: middle;\n",
       "    }\n",
       "\n",
       "    .dataframe tbody tr th {\n",
       "        vertical-align: top;\n",
       "    }\n",
       "\n",
       "    .dataframe thead th {\n",
       "        text-align: right;\n",
       "    }\n",
       "</style>\n",
       "<table border=\"1\" class=\"dataframe\">\n",
       "  <thead>\n",
       "    <tr style=\"text-align: right;\">\n",
       "      <th></th>\n",
       "      <th>yelp_id</th>\n",
       "      <th>yelp_name</th>\n",
       "      <th>yelp_category</th>\n",
       "      <th>yelp_longitude</th>\n",
       "      <th>yelp_latitude</th>\n",
       "      <th>yelp_distance</th>\n",
       "      <th>yelp_ratings</th>\n",
       "    </tr>\n",
       "  </thead>\n",
       "  <tbody>\n",
       "    <tr>\n",
       "      <th>0</th>\n",
       "      <td>Ohengzi4viLEXqhK50aLxg</td>\n",
       "      <td>Jaclyn's</td>\n",
       "      <td>Caribbean</td>\n",
       "      <td>43.66627</td>\n",
       "      <td>-79.31802</td>\n",
       "      <td>172.375134</td>\n",
       "      <td>4.5</td>\n",
       "    </tr>\n",
       "    <tr>\n",
       "      <th>1</th>\n",
       "      <td>a-Mo7Ipu_c5y21mmg0-F7g</td>\n",
       "      <td>Agio</td>\n",
       "      <td>Italian</td>\n",
       "      <td>43.67599</td>\n",
       "      <td>-79.45066</td>\n",
       "      <td>646.471211</td>\n",
       "      <td>4.5</td>\n",
       "    </tr>\n",
       "    <tr>\n",
       "      <th>2</th>\n",
       "      <td>Ohengzi4viLEXqhK50aLxg</td>\n",
       "      <td>Jaclyn's</td>\n",
       "      <td>Caribbean</td>\n",
       "      <td>43.66627</td>\n",
       "      <td>-79.31802</td>\n",
       "      <td>29.257263</td>\n",
       "      <td>4.5</td>\n",
       "    </tr>\n",
       "    <tr>\n",
       "      <th>3</th>\n",
       "      <td>qekAZVcOoJjMBnN5rJ_4fQ</td>\n",
       "      <td>The Rabbit Hole</td>\n",
       "      <td>Gastropubs</td>\n",
       "      <td>43.64995</td>\n",
       "      <td>-79.37976</td>\n",
       "      <td>426.288752</td>\n",
       "      <td>4.0</td>\n",
       "    </tr>\n",
       "    <tr>\n",
       "      <th>4</th>\n",
       "      <td>saijdv-vXJrvsCfvr7SZOw</td>\n",
       "      <td>Katsuya</td>\n",
       "      <td>Japanese</td>\n",
       "      <td>43.65995</td>\n",
       "      <td>-79.37882</td>\n",
       "      <td>432.975108</td>\n",
       "      <td>4.5</td>\n",
       "    </tr>\n",
       "  </tbody>\n",
       "</table>\n",
       "</div>"
      ],
      "text/plain": [
       "                  yelp_id        yelp_name yelp_category  yelp_longitude  \\\n",
       "0  Ohengzi4viLEXqhK50aLxg         Jaclyn's     Caribbean        43.66627   \n",
       "1  a-Mo7Ipu_c5y21mmg0-F7g             Agio       Italian        43.67599   \n",
       "2  Ohengzi4viLEXqhK50aLxg         Jaclyn's     Caribbean        43.66627   \n",
       "3  qekAZVcOoJjMBnN5rJ_4fQ  The Rabbit Hole    Gastropubs        43.64995   \n",
       "4  saijdv-vXJrvsCfvr7SZOw          Katsuya      Japanese        43.65995   \n",
       "\n",
       "   yelp_latitude  yelp_distance  yelp_ratings  \n",
       "0      -79.31802     172.375134           4.5  \n",
       "1      -79.45066     646.471211           4.5  \n",
       "2      -79.31802      29.257263           4.5  \n",
       "3      -79.37976     426.288752           4.0  \n",
       "4      -79.37882     432.975108           4.5  "
      ]
     },
     "execution_count": 160,
     "metadata": {},
     "output_type": "execute_result"
    }
   ],
   "source": [
    "yelp_df.head()"
   ]
  },
  {
   "cell_type": "code",
   "execution_count": null,
   "metadata": {},
   "outputs": [],
   "source": []
  },
  {
   "cell_type": "markdown",
   "metadata": {},
   "source": [
    "#### Check remaining Yelp API call"
   ]
  },
  {
   "cell_type": "code",
   "execution_count": 15,
   "metadata": {},
   "outputs": [
    {
     "name": "stdout",
     "output_type": "stream",
     "text": [
      "Daily Limit: 500.0\n",
      "Remaining Calls: 49.0\n",
      "Reset Time: 2023-09-17T00:00:00+00:00\n"
     ]
    }
   ],
   "source": [
    "# import requests\n",
    "\n",
    "# API_KEY = yelp_API_KEY\n",
    "# url = 'https://api.yelp.com/v3/businesses/search?term=coffee&location=sf'\n",
    "\n",
    "# headers = {\n",
    "#     'Authorization': f'Bearer {API_KEY}',\n",
    "# }\n",
    "\n",
    "# response = requests.get(url, headers=headers)\n",
    "\n",
    "# # Extract rate limit information from headers\n",
    "# daily_limit = response.headers.get('RateLimit-DailyLimit')\n",
    "# remaining_calls = response.headers.get('RateLimit-Remaining')\n",
    "# reset_time = response.headers.get('RateLimit-ResetTime')\n",
    "\n",
    "# print(f'Daily Limit: {daily_limit}')\n",
    "# print(f'Remaining Calls: {remaining_calls}')\n",
    "# print(f'Reset Time: {reset_time}')"
   ]
  },
  {
   "cell_type": "markdown",
   "metadata": {},
   "source": [
    " "
   ]
  },
  {
   "cell_type": "markdown",
   "metadata": {},
   "source": [
    " "
   ]
  },
  {
   "cell_type": "markdown",
   "metadata": {},
   "source": [
    "# Comparing Results"
   ]
  },
  {
   "cell_type": "markdown",
   "metadata": {},
   "source": [
    "Which API provided you with more complete data? Provide an explanation. "
   ]
  },
  {
   "cell_type": "code",
   "execution_count": 129,
   "metadata": {},
   "outputs": [
    {
     "data": {
      "text/plain": [
       "dict_keys(['fsq_id', 'categories', 'chains', 'distance', 'geocodes', 'link', 'location', 'name', 'related_places', 'timezone'])"
      ]
     },
     "execution_count": 129,
     "metadata": {},
     "output_type": "execute_result"
    }
   ],
   "source": [
    "fs_results_keys"
   ]
  },
  {
   "cell_type": "code",
   "execution_count": 130,
   "metadata": {},
   "outputs": [
    {
     "data": {
      "text/plain": [
       "dict_keys(['id', 'alias', 'name', 'image_url', 'is_closed', 'url', 'review_count', 'categories', 'rating', 'coordinates', 'transactions', 'location', 'phone', 'display_phone', 'distance'])"
      ]
     },
     "execution_count": 130,
     "metadata": {},
     "output_type": "execute_result"
    }
   ],
   "source": [
    "yelp_businesses_keys"
   ]
  },
  {
   "cell_type": "markdown",
   "metadata": {},
   "source": [
    " "
   ]
  },
  {
   "cell_type": "markdown",
   "metadata": {},
   "source": [
    "1. In terms of the quantity of information for each row, Yelp has provided more features by default. For instance, it returns ratin feature while foursquare did not.\n",
    "2. In terms of quantity of information per each API call, Foursquare provided more api calls returning all 696 rows of city bike stations. Whereas, yelp has a limited 500 API calls."
   ]
  },
  {
   "cell_type": "markdown",
   "metadata": {},
   "source": [
    " "
   ]
  },
  {
   "cell_type": "markdown",
   "metadata": {},
   "source": [
    "Get the top 10 restaurants according to their rating"
   ]
  },
  {
   "cell_type": "code",
   "execution_count": 154,
   "metadata": {},
   "outputs": [
    {
     "data": {
      "text/html": [
       "<div>\n",
       "<style scoped>\n",
       "    .dataframe tbody tr th:only-of-type {\n",
       "        vertical-align: middle;\n",
       "    }\n",
       "\n",
       "    .dataframe tbody tr th {\n",
       "        vertical-align: top;\n",
       "    }\n",
       "\n",
       "    .dataframe thead th {\n",
       "        text-align: right;\n",
       "    }\n",
       "</style>\n",
       "<table border=\"1\" class=\"dataframe\">\n",
       "  <thead>\n",
       "    <tr style=\"text-align: right;\">\n",
       "      <th></th>\n",
       "      <th>yelp_id</th>\n",
       "      <th>yelp_name</th>\n",
       "      <th>yelp_category</th>\n",
       "      <th>yelp_longitude</th>\n",
       "      <th>yelp_latitude</th>\n",
       "      <th>yelp_distance</th>\n",
       "      <th>yelp_ratings</th>\n",
       "    </tr>\n",
       "  </thead>\n",
       "  <tbody>\n",
       "    <tr>\n",
       "      <th>182</th>\n",
       "      <td>oFPX6Ki7yXZXegFPxwcEOg</td>\n",
       "      <td>Momo Ghar</td>\n",
       "      <td>Himalayan/Nepalese</td>\n",
       "      <td>43.667410</td>\n",
       "      <td>-79.369530</td>\n",
       "      <td>344.900040</td>\n",
       "      <td>5.0</td>\n",
       "    </tr>\n",
       "    <tr>\n",
       "      <th>424</th>\n",
       "      <td>WSBnoQ_zgmo4e63IViPNWQ</td>\n",
       "      <td>Chiang Mai Junction</td>\n",
       "      <td>Thai</td>\n",
       "      <td>43.665658</td>\n",
       "      <td>-79.469444</td>\n",
       "      <td>67.037141</td>\n",
       "      <td>5.0</td>\n",
       "    </tr>\n",
       "    <tr>\n",
       "      <th>38</th>\n",
       "      <td>sV4QGXQk77dmr-lqTcDTKQ</td>\n",
       "      <td>Rikki Tikki</td>\n",
       "      <td>Indian</td>\n",
       "      <td>43.654081</td>\n",
       "      <td>-79.401486</td>\n",
       "      <td>414.853521</td>\n",
       "      <td>5.0</td>\n",
       "    </tr>\n",
       "    <tr>\n",
       "      <th>148</th>\n",
       "      <td>sV4QGXQk77dmr-lqTcDTKQ</td>\n",
       "      <td>Rikki Tikki</td>\n",
       "      <td>Indian</td>\n",
       "      <td>43.654081</td>\n",
       "      <td>-79.401486</td>\n",
       "      <td>471.404303</td>\n",
       "      <td>5.0</td>\n",
       "    </tr>\n",
       "    <tr>\n",
       "      <th>372</th>\n",
       "      <td>J9vAdD2dCpFuGsxPIn184w</td>\n",
       "      <td>New Orleans Seafood &amp; Steakhouse</td>\n",
       "      <td>Seafood</td>\n",
       "      <td>43.677750</td>\n",
       "      <td>-79.506110</td>\n",
       "      <td>737.234341</td>\n",
       "      <td>5.0</td>\n",
       "    </tr>\n",
       "    <tr>\n",
       "      <th>152</th>\n",
       "      <td>XIRKBWMyW8bC7bZdyoabiQ</td>\n",
       "      <td>Papyrus</td>\n",
       "      <td>Egyptian</td>\n",
       "      <td>43.677090</td>\n",
       "      <td>-79.353240</td>\n",
       "      <td>672.916475</td>\n",
       "      <td>5.0</td>\n",
       "    </tr>\n",
       "    <tr>\n",
       "      <th>153</th>\n",
       "      <td>XIRKBWMyW8bC7bZdyoabiQ</td>\n",
       "      <td>Papyrus</td>\n",
       "      <td>Egyptian</td>\n",
       "      <td>43.677090</td>\n",
       "      <td>-79.353240</td>\n",
       "      <td>272.322499</td>\n",
       "      <td>5.0</td>\n",
       "    </tr>\n",
       "    <tr>\n",
       "      <th>74</th>\n",
       "      <td>sV4QGXQk77dmr-lqTcDTKQ</td>\n",
       "      <td>Rikki Tikki</td>\n",
       "      <td>Indian</td>\n",
       "      <td>43.654081</td>\n",
       "      <td>-79.401486</td>\n",
       "      <td>178.850672</td>\n",
       "      <td>5.0</td>\n",
       "    </tr>\n",
       "    <tr>\n",
       "      <th>130</th>\n",
       "      <td>XIRKBWMyW8bC7bZdyoabiQ</td>\n",
       "      <td>Papyrus</td>\n",
       "      <td>Egyptian</td>\n",
       "      <td>43.677090</td>\n",
       "      <td>-79.353240</td>\n",
       "      <td>425.903661</td>\n",
       "      <td>5.0</td>\n",
       "    </tr>\n",
       "    <tr>\n",
       "      <th>311</th>\n",
       "      <td>ok3DZaO3vTt5lRsXX60sFQ</td>\n",
       "      <td>Brasa Peruvian Kitchen</td>\n",
       "      <td>Salad</td>\n",
       "      <td>43.665511</td>\n",
       "      <td>-79.449622</td>\n",
       "      <td>132.022641</td>\n",
       "      <td>5.0</td>\n",
       "    </tr>\n",
       "  </tbody>\n",
       "</table>\n",
       "</div>"
      ],
      "text/plain": [
       "                    yelp_id                         yelp_name  \\\n",
       "182  oFPX6Ki7yXZXegFPxwcEOg                         Momo Ghar   \n",
       "424  WSBnoQ_zgmo4e63IViPNWQ               Chiang Mai Junction   \n",
       "38   sV4QGXQk77dmr-lqTcDTKQ                       Rikki Tikki   \n",
       "148  sV4QGXQk77dmr-lqTcDTKQ                       Rikki Tikki   \n",
       "372  J9vAdD2dCpFuGsxPIn184w  New Orleans Seafood & Steakhouse   \n",
       "152  XIRKBWMyW8bC7bZdyoabiQ                           Papyrus   \n",
       "153  XIRKBWMyW8bC7bZdyoabiQ                           Papyrus   \n",
       "74   sV4QGXQk77dmr-lqTcDTKQ                       Rikki Tikki   \n",
       "130  XIRKBWMyW8bC7bZdyoabiQ                           Papyrus   \n",
       "311  ok3DZaO3vTt5lRsXX60sFQ            Brasa Peruvian Kitchen   \n",
       "\n",
       "          yelp_category  yelp_longitude  yelp_latitude  yelp_distance  \\\n",
       "182  Himalayan/Nepalese       43.667410     -79.369530     344.900040   \n",
       "424                Thai       43.665658     -79.469444      67.037141   \n",
       "38               Indian       43.654081     -79.401486     414.853521   \n",
       "148              Indian       43.654081     -79.401486     471.404303   \n",
       "372             Seafood       43.677750     -79.506110     737.234341   \n",
       "152            Egyptian       43.677090     -79.353240     672.916475   \n",
       "153            Egyptian       43.677090     -79.353240     272.322499   \n",
       "74               Indian       43.654081     -79.401486     178.850672   \n",
       "130            Egyptian       43.677090     -79.353240     425.903661   \n",
       "311               Salad       43.665511     -79.449622     132.022641   \n",
       "\n",
       "     yelp_ratings  \n",
       "182           5.0  \n",
       "424           5.0  \n",
       "38            5.0  \n",
       "148           5.0  \n",
       "372           5.0  \n",
       "152           5.0  \n",
       "153           5.0  \n",
       "74            5.0  \n",
       "130           5.0  \n",
       "311           5.0  "
      ]
     },
     "execution_count": 154,
     "metadata": {},
     "output_type": "execute_result"
    }
   ],
   "source": [
    "#Top 10 Restairants Based on Ratings on Yelp\n",
    "yelp_df.sort_values(by=\"yelp_ratings\", ascending=False).head(10)"
   ]
  },
  {
   "cell_type": "code",
   "execution_count": null,
   "metadata": {},
   "outputs": [],
   "source": []
  }
 ],
 "metadata": {
  "kernelspec": {
   "display_name": "Python 3 (ipykernel)",
   "language": "python",
   "name": "python3"
  },
  "language_info": {
   "codemirror_mode": {
    "name": "ipython",
    "version": 3
   },
   "file_extension": ".py",
   "mimetype": "text/x-python",
   "name": "python",
   "nbconvert_exporter": "python",
   "pygments_lexer": "ipython3",
   "version": "3.9.13"
  }
 },
 "nbformat": 4,
 "nbformat_minor": 4
}
