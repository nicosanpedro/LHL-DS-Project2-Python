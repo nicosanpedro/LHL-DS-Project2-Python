{
 "cells": [
  {
   "cell_type": "code",
   "execution_count": 105,
   "metadata": {},
   "outputs": [],
   "source": [
    "import pandas as pd\n",
    "import numpy as np"
   ]
  },
  {
   "cell_type": "markdown",
   "metadata": {},
   "source": [
    "# 1.0 Loading the datasets"
   ]
  },
  {
   "cell_type": "code",
   "execution_count": 60,
   "metadata": {},
   "outputs": [],
   "source": [
    "city_bikes_df = pd.read_pickle(\"df_stations.pkl\")\n",
    "city_bikes_df = city_bikes_df.loc[:449]\n",
    "yelp_df = pd.read_pickle(\"yelp_df.pkl\")"
   ]
  },
  {
   "cell_type": "code",
   "execution_count": 102,
   "metadata": {},
   "outputs": [
    {
     "data": {
      "text/html": [
       "<div>\n",
       "<style scoped>\n",
       "    .dataframe tbody tr th:only-of-type {\n",
       "        vertical-align: middle;\n",
       "    }\n",
       "\n",
       "    .dataframe tbody tr th {\n",
       "        vertical-align: top;\n",
       "    }\n",
       "\n",
       "    .dataframe thead th {\n",
       "        text-align: right;\n",
       "    }\n",
       "</style>\n",
       "<table border=\"1\" class=\"dataframe\">\n",
       "  <thead>\n",
       "    <tr style=\"text-align: right;\">\n",
       "      <th></th>\n",
       "      <th>yelp_id</th>\n",
       "      <th>yelp_name</th>\n",
       "      <th>yelp_category</th>\n",
       "      <th>yelp_longitude</th>\n",
       "      <th>yelp_latitude</th>\n",
       "      <th>yelp_distance</th>\n",
       "      <th>yelp_ratings</th>\n",
       "    </tr>\n",
       "  </thead>\n",
       "  <tbody>\n",
       "    <tr>\n",
       "      <th>0</th>\n",
       "      <td>Ohengzi4viLEXqhK50aLxg</td>\n",
       "      <td>Jaclyn's</td>\n",
       "      <td>Caribbean</td>\n",
       "      <td>43.66627</td>\n",
       "      <td>-79.31802</td>\n",
       "      <td>172.375134</td>\n",
       "      <td>4.5</td>\n",
       "    </tr>\n",
       "    <tr>\n",
       "      <th>1</th>\n",
       "      <td>a-Mo7Ipu_c5y21mmg0-F7g</td>\n",
       "      <td>Agio</td>\n",
       "      <td>Italian</td>\n",
       "      <td>43.67599</td>\n",
       "      <td>-79.45066</td>\n",
       "      <td>646.471211</td>\n",
       "      <td>4.5</td>\n",
       "    </tr>\n",
       "    <tr>\n",
       "      <th>2</th>\n",
       "      <td>Ohengzi4viLEXqhK50aLxg</td>\n",
       "      <td>Jaclyn's</td>\n",
       "      <td>Caribbean</td>\n",
       "      <td>43.66627</td>\n",
       "      <td>-79.31802</td>\n",
       "      <td>29.257263</td>\n",
       "      <td>4.5</td>\n",
       "    </tr>\n",
       "    <tr>\n",
       "      <th>3</th>\n",
       "      <td>qekAZVcOoJjMBnN5rJ_4fQ</td>\n",
       "      <td>The Rabbit Hole</td>\n",
       "      <td>Gastropubs</td>\n",
       "      <td>43.64995</td>\n",
       "      <td>-79.37976</td>\n",
       "      <td>426.288752</td>\n",
       "      <td>4.0</td>\n",
       "    </tr>\n",
       "    <tr>\n",
       "      <th>4</th>\n",
       "      <td>saijdv-vXJrvsCfvr7SZOw</td>\n",
       "      <td>Katsuya</td>\n",
       "      <td>Japanese</td>\n",
       "      <td>43.65995</td>\n",
       "      <td>-79.37882</td>\n",
       "      <td>432.975108</td>\n",
       "      <td>4.5</td>\n",
       "    </tr>\n",
       "  </tbody>\n",
       "</table>\n",
       "</div>"
      ],
      "text/plain": [
       "                  yelp_id        yelp_name yelp_category  yelp_longitude  \\\n",
       "0  Ohengzi4viLEXqhK50aLxg         Jaclyn's     Caribbean        43.66627   \n",
       "1  a-Mo7Ipu_c5y21mmg0-F7g             Agio       Italian        43.67599   \n",
       "2  Ohengzi4viLEXqhK50aLxg         Jaclyn's     Caribbean        43.66627   \n",
       "3  qekAZVcOoJjMBnN5rJ_4fQ  The Rabbit Hole    Gastropubs        43.64995   \n",
       "4  saijdv-vXJrvsCfvr7SZOw          Katsuya      Japanese        43.65995   \n",
       "\n",
       "   yelp_latitude  yelp_distance  yelp_ratings  \n",
       "0      -79.31802     172.375134           4.5  \n",
       "1      -79.45066     646.471211           4.5  \n",
       "2      -79.31802      29.257263           4.5  \n",
       "3      -79.37976     426.288752           4.0  \n",
       "4      -79.37882     432.975108           4.5  "
      ]
     },
     "execution_count": 102,
     "metadata": {},
     "output_type": "execute_result"
    }
   ],
   "source": [
    "yelp_df.head()"
   ]
  },
  {
   "cell_type": "code",
   "execution_count": 103,
   "metadata": {},
   "outputs": [
    {
     "data": {
      "text/html": [
       "<div>\n",
       "<style scoped>\n",
       "    .dataframe tbody tr th:only-of-type {\n",
       "        vertical-align: middle;\n",
       "    }\n",
       "\n",
       "    .dataframe tbody tr th {\n",
       "        vertical-align: top;\n",
       "    }\n",
       "\n",
       "    .dataframe thead th {\n",
       "        text-align: right;\n",
       "    }\n",
       "</style>\n",
       "<table border=\"1\" class=\"dataframe\">\n",
       "  <thead>\n",
       "    <tr style=\"text-align: right;\">\n",
       "      <th></th>\n",
       "      <th>empty_slots</th>\n",
       "      <th>free_bikes</th>\n",
       "      <th>id</th>\n",
       "      <th>latitude</th>\n",
       "      <th>longitude</th>\n",
       "      <th>name</th>\n",
       "      <th>timestamp</th>\n",
       "    </tr>\n",
       "  </thead>\n",
       "  <tbody>\n",
       "    <tr>\n",
       "      <th>0</th>\n",
       "      <td>2</td>\n",
       "      <td>16</td>\n",
       "      <td>fb337bbed72e2be090071e199899b2be</td>\n",
       "      <td>43.665269</td>\n",
       "      <td>-79.319796</td>\n",
       "      <td>Queen St E / Woodward Ave</td>\n",
       "      <td>2023-09-06T03:00:17.295000Z</td>\n",
       "    </tr>\n",
       "    <tr>\n",
       "      <th>1</th>\n",
       "      <td>2</td>\n",
       "      <td>13</td>\n",
       "      <td>4ff88d5880e71aa40d34cfe5d09b0ca7</td>\n",
       "      <td>43.671420</td>\n",
       "      <td>-79.445947</td>\n",
       "      <td>Primrose Ave / Davenport Rd</td>\n",
       "      <td>2023-09-06T03:00:17.296000Z</td>\n",
       "    </tr>\n",
       "    <tr>\n",
       "      <th>2</th>\n",
       "      <td>5</td>\n",
       "      <td>18</td>\n",
       "      <td>a09c67c0b419654d907c9134b108e328</td>\n",
       "      <td>43.666224</td>\n",
       "      <td>-79.317693</td>\n",
       "      <td>Queen St. E / Rhodes Ave.</td>\n",
       "      <td>2023-09-06T03:00:17.296000Z</td>\n",
       "    </tr>\n",
       "    <tr>\n",
       "      <th>3</th>\n",
       "      <td>21</td>\n",
       "      <td>0</td>\n",
       "      <td>d6a9daee68070a8b106cfb598d81308c</td>\n",
       "      <td>43.653236</td>\n",
       "      <td>-79.376716</td>\n",
       "      <td>Bond St / Queen St E</td>\n",
       "      <td>2023-09-06T03:00:17.301000Z</td>\n",
       "    </tr>\n",
       "    <tr>\n",
       "      <th>4</th>\n",
       "      <td>13</td>\n",
       "      <td>14</td>\n",
       "      <td>8f8af40d9388c8a3962559e8681d3db7</td>\n",
       "      <td>43.663722</td>\n",
       "      <td>-79.380288</td>\n",
       "      <td>Church St / Alexander St</td>\n",
       "      <td>2023-09-06T03:00:17.302000Z</td>\n",
       "    </tr>\n",
       "  </tbody>\n",
       "</table>\n",
       "</div>"
      ],
      "text/plain": [
       "   empty_slots  free_bikes                                id   latitude  \\\n",
       "0            2          16  fb337bbed72e2be090071e199899b2be  43.665269   \n",
       "1            2          13  4ff88d5880e71aa40d34cfe5d09b0ca7  43.671420   \n",
       "2            5          18  a09c67c0b419654d907c9134b108e328  43.666224   \n",
       "3           21           0  d6a9daee68070a8b106cfb598d81308c  43.653236   \n",
       "4           13          14  8f8af40d9388c8a3962559e8681d3db7  43.663722   \n",
       "\n",
       "   longitude                         name                    timestamp  \n",
       "0 -79.319796    Queen St E / Woodward Ave  2023-09-06T03:00:17.295000Z  \n",
       "1 -79.445947  Primrose Ave / Davenport Rd  2023-09-06T03:00:17.296000Z  \n",
       "2 -79.317693    Queen St. E / Rhodes Ave.  2023-09-06T03:00:17.296000Z  \n",
       "3 -79.376716         Bond St / Queen St E  2023-09-06T03:00:17.301000Z  \n",
       "4 -79.380288     Church St / Alexander St  2023-09-06T03:00:17.302000Z  "
      ]
     },
     "execution_count": 103,
     "metadata": {},
     "output_type": "execute_result"
    }
   ],
   "source": [
    "city_bikes_df.head()"
   ]
  },
  {
   "cell_type": "code",
   "execution_count": 100,
   "metadata": {},
   "outputs": [],
   "source": [
    "# Assigning values\n",
    "\n",
    "empty_slots = np.array(city_bikes_df[\"empty_slots\"])\n",
    "free_slots = np.array(city_bikes_df[\"free_bikes\"])\n",
    "bike_slots = empty_slots + free_slots\n",
    "\n",
    "yelp_ratings = np.array(yelp_df[\"yelp_distance\"])"
   ]
  },
  {
   "cell_type": "code",
   "execution_count": 85,
   "metadata": {},
   "outputs": [],
   "source": [
    "X = bike_slots.copy()\n",
    "y = yelp_ratings.copy()"
   ]
  },
  {
   "cell_type": "markdown",
   "metadata": {},
   "source": [
    " "
   ]
  },
  {
   "cell_type": "markdown",
   "metadata": {},
   "source": [
    "# Linear Regression"
   ]
  },
  {
   "cell_type": "code",
   "execution_count": 101,
   "metadata": {},
   "outputs": [],
   "source": [
    "from sklearn import linear_model, datasets\n",
    "import statsmodels.api as sm\n",
    "import matplotlib.pyplot as plt"
   ]
  },
  {
   "cell_type": "code",
   "execution_count": 87,
   "metadata": {},
   "outputs": [],
   "source": [
    "X = sm.add_constant(X) # adding a constant\n",
    "lin_reg = sm.OLS(y,X)"
   ]
  },
  {
   "cell_type": "code",
   "execution_count": 88,
   "metadata": {},
   "outputs": [
    {
     "name": "stdout",
     "output_type": "stream",
     "text": [
      "                            OLS Regression Results                            \n",
      "==============================================================================\n",
      "Dep. Variable:                      y   R-squared:                       0.014\n",
      "Model:                            OLS   Adj. R-squared:                  0.012\n",
      "Method:                 Least Squares   F-statistic:                     6.444\n",
      "Date:                Mon, 18 Sep 2023   Prob (F-statistic):             0.0115\n",
      "Time:                        13:24:43   Log-Likelihood:                -3125.5\n",
      "No. Observations:                 450   AIC:                             6255.\n",
      "Df Residuals:                     448   BIC:                             6263.\n",
      "Df Model:                           1                                         \n",
      "Covariance Type:            nonrobust                                         \n",
      "==============================================================================\n",
      "                 coef    std err          t      P>|t|      [0.025      0.975]\n",
      "------------------------------------------------------------------------------\n",
      "const        329.3090     36.612      8.995      0.000     257.356     401.262\n",
      "x1             4.8364      1.905      2.538      0.011       1.092       8.581\n",
      "==============================================================================\n",
      "Omnibus:                       28.013   Durbin-Watson:                   1.930\n",
      "Prob(Omnibus):                  0.000   Jarque-Bera (JB):               31.857\n",
      "Skew:                           0.650   Prob(JB):                     1.21e-07\n",
      "Kurtosis:                       3.104   Cond. No.                         59.4\n",
      "==============================================================================\n",
      "\n",
      "Notes:\n",
      "[1] Standard Errors assume that the covariance matrix of the errors is correctly specified.\n"
     ]
    }
   ],
   "source": [
    "model = lin_reg.fit()\n",
    "print_model = model.summary()\n",
    "print(print_model)"
   ]
  },
  {
   "cell_type": "markdown",
   "metadata": {},
   "source": [
    "Insights\n",
    "\n",
    "1. An R-squared value of 0.014 means that the distance of restairants to the bike station and the number of bikes in each stations are not related to each others.\n"
   ]
  },
  {
   "cell_type": "markdown",
   "metadata": {},
   "source": [
    "# 3.0 Scatterplot of the data used"
   ]
  },
  {
   "cell_type": "code",
   "execution_count": 104,
   "metadata": {},
   "outputs": [
    {
     "data": {
      "image/png": "[encoded data removed]",
      "text/plain": [
       "<Figure size 640x480 with 1 Axes>"
      ]
     },
     "metadata": {},
     "output_type": "display_data"
    }
   ],
   "source": [
    "plt.scatter(yelp_ratings, bike_slots)\n",
    "plt.ylabel(\"Restaurant's Distance from the Bike Station\")\n",
    "plt.xlabel(\"Number of Bikes\")\n",
    "plt.title(\"Scatterplot of Number of Bikes and Distance from the Restaurant\\n\")\n",
    "\n",
    "plt.show()"
   ]
  },
  {
   "cell_type": "markdown",
   "metadata": {},
   "source": [
    "# Stretch"
   ]
  },
  {
   "cell_type": "markdown",
   "metadata": {},
   "source": [
    "How can you turn the regression model into a classification model?"
   ]
  },
  {
   "cell_type": "code",
   "execution_count": null,
   "metadata": {},
   "outputs": [],
   "source": []
  }
 ],
 "metadata": {
  "kernelspec": {
   "display_name": "Python 3 (ipykernel)",
   "language": "python",
   "name": "python3"
  },
  "language_info": {
   "codemirror_mode": {
    "name": "ipython",
    "version": 3
   },
   "file_extension": ".py",
   "mimetype": "text/x-python",
   "name": "python",
   "nbconvert_exporter": "python",
   "pygments_lexer": "ipython3",
   "version": "3.9.13"
  }
 },
 "nbformat": 4,
 "nbformat_minor": 4
}
