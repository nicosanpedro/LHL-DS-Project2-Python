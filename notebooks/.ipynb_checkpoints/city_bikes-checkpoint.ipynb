{
 "cells": [
  {
   "cell_type": "markdown",
   "metadata": {},
   "source": [
    "# CityBikes"
   ]
  },
  {
   "cell_type": "markdown",
   "metadata": {},
   "source": [
    "Send a request to CityBikes for the city of your choice. "
   ]
  },
  {
   "cell_type": "code",
   "execution_count": 35,
   "metadata": {},
   "outputs": [],
   "source": [
    "import requests\n",
    "import os\n",
    "\n",
    "import pandas as pd\n",
    "import numpy as np"
   ]
  },
  {
   "cell_type": "code",
   "execution_count": 36,
   "metadata": {},
   "outputs": [
    {
     "data": {
      "text/plain": [
       "<Response [200]>"
      ]
     },
     "execution_count": 36,
     "metadata": {},
     "output_type": "execute_result"
    }
   ],
   "source": [
    "city = \"toronto\" #City POI\n",
    "url = \"http://api.citybik.es/v2/networks/\" + city #Default City Bikes URL API\n",
    "\n",
    "#API Call\n",
    "result = requests.get(url)\n",
    "result"
   ]
  },
  {
   "cell_type": "code",
   "execution_count": 37,
   "metadata": {},
   "outputs": [
    {
     "data": {
      "text/plain": [
       "dict_keys(['company', 'gbfs_href', 'href', 'id', 'location', 'name', 'stations'])"
      ]
     },
     "execution_count": 37,
     "metadata": {},
     "output_type": "execute_result"
    }
   ],
   "source": [
    "toronto_bikes = result.json()['network'] #Saving JSON file into a dictionary"
   ]
  },
  {
   "cell_type": "code",
   "execution_count": 66,
   "metadata": {},
   "outputs": [],
   "source": [
    "#Converted dictionary to DataFrame\n",
    "df_stations = pd.DataFrame(toronto_bikes[\"stations\"]) "
   ]
  },
  {
   "cell_type": "code",
   "execution_count": 69,
   "metadata": {},
   "outputs": [
    {
     "data": {
      "text/plain": [
       "{'address': 'Queen St E / Woodward Ave',\n",
       " 'altitude': 0.0,\n",
       " 'ebikes': 2,\n",
       " 'has_ebikes': True,\n",
       " 'last_updated': 1693968977,\n",
       " 'normal_bikes': 14,\n",
       " 'payment': ['key', 'transitcard', 'creditcard', 'phone'],\n",
       " 'payment-terminal': True,\n",
       " 'rental_uris': {},\n",
       " 'renting': 1,\n",
       " 'returning': 1,\n",
       " 'slots': 19,\n",
       " 'uid': '7303'}"
      ]
     },
     "execution_count": 69,
     "metadata": {},
     "output_type": "execute_result"
    }
   ],
   "source": [
    "#Filtered Data Frame\n",
    "df_stations[\"extra\"][0]"
   ]
  },
  {
   "cell_type": "markdown",
   "metadata": {},
   "source": [
    " "
   ]
  },
  {
   "cell_type": "markdown",
   "metadata": {},
   "source": [
    "Parse through the response to get the details you want for the bike stations in that city (latitude, longitude, number of bikes). "
   ]
  },
  {
   "cell_type": "code",
   "execution_count": 53,
   "metadata": {},
   "outputs": [],
   "source": [
    "df_stations = df_stations.drop([\"extra\"], axis=1)"
   ]
  },
  {
   "cell_type": "markdown",
   "metadata": {},
   "source": [
    "Put your parsed results into a DataFrame."
   ]
  },
  {
   "cell_type": "code",
   "execution_count": 54,
   "metadata": {},
   "outputs": [
    {
     "data": {
      "text/html": [
       "<div>\n",
       "<style scoped>\n",
       "    .dataframe tbody tr th:only-of-type {\n",
       "        vertical-align: middle;\n",
       "    }\n",
       "\n",
       "    .dataframe tbody tr th {\n",
       "        vertical-align: top;\n",
       "    }\n",
       "\n",
       "    .dataframe thead th {\n",
       "        text-align: right;\n",
       "    }\n",
       "</style>\n",
       "<table border=\"1\" class=\"dataframe\">\n",
       "  <thead>\n",
       "    <tr style=\"text-align: right;\">\n",
       "      <th></th>\n",
       "      <th>empty_slots</th>\n",
       "      <th>free_bikes</th>\n",
       "      <th>id</th>\n",
       "      <th>latitude</th>\n",
       "      <th>longitude</th>\n",
       "      <th>name</th>\n",
       "      <th>timestamp</th>\n",
       "    </tr>\n",
       "  </thead>\n",
       "  <tbody>\n",
       "    <tr>\n",
       "      <th>0</th>\n",
       "      <td>2</td>\n",
       "      <td>16</td>\n",
       "      <td>fb337bbed72e2be090071e199899b2be</td>\n",
       "      <td>43.665269</td>\n",
       "      <td>-79.319796</td>\n",
       "      <td>Queen St E / Woodward Ave</td>\n",
       "      <td>2023-09-06T03:00:17.295000Z</td>\n",
       "    </tr>\n",
       "    <tr>\n",
       "      <th>1</th>\n",
       "      <td>2</td>\n",
       "      <td>13</td>\n",
       "      <td>4ff88d5880e71aa40d34cfe5d09b0ca7</td>\n",
       "      <td>43.671420</td>\n",
       "      <td>-79.445947</td>\n",
       "      <td>Primrose Ave / Davenport Rd</td>\n",
       "      <td>2023-09-06T03:00:17.296000Z</td>\n",
       "    </tr>\n",
       "    <tr>\n",
       "      <th>2</th>\n",
       "      <td>5</td>\n",
       "      <td>18</td>\n",
       "      <td>a09c67c0b419654d907c9134b108e328</td>\n",
       "      <td>43.666224</td>\n",
       "      <td>-79.317693</td>\n",
       "      <td>Queen St. E / Rhodes Ave.</td>\n",
       "      <td>2023-09-06T03:00:17.296000Z</td>\n",
       "    </tr>\n",
       "    <tr>\n",
       "      <th>3</th>\n",
       "      <td>21</td>\n",
       "      <td>0</td>\n",
       "      <td>d6a9daee68070a8b106cfb598d81308c</td>\n",
       "      <td>43.653236</td>\n",
       "      <td>-79.376716</td>\n",
       "      <td>Bond St / Queen St E</td>\n",
       "      <td>2023-09-06T03:00:17.301000Z</td>\n",
       "    </tr>\n",
       "    <tr>\n",
       "      <th>4</th>\n",
       "      <td>13</td>\n",
       "      <td>14</td>\n",
       "      <td>8f8af40d9388c8a3962559e8681d3db7</td>\n",
       "      <td>43.663722</td>\n",
       "      <td>-79.380288</td>\n",
       "      <td>Church St / Alexander St</td>\n",
       "      <td>2023-09-06T03:00:17.302000Z</td>\n",
       "    </tr>\n",
       "  </tbody>\n",
       "</table>\n",
       "</div>"
      ],
      "text/plain": [
       "   empty_slots  free_bikes                                id   latitude  \\\n",
       "0            2          16  fb337bbed72e2be090071e199899b2be  43.665269   \n",
       "1            2          13  4ff88d5880e71aa40d34cfe5d09b0ca7  43.671420   \n",
       "2            5          18  a09c67c0b419654d907c9134b108e328  43.666224   \n",
       "3           21           0  d6a9daee68070a8b106cfb598d81308c  43.653236   \n",
       "4           13          14  8f8af40d9388c8a3962559e8681d3db7  43.663722   \n",
       "\n",
       "   longitude                         name                    timestamp  \n",
       "0 -79.319796    Queen St E / Woodward Ave  2023-09-06T03:00:17.295000Z  \n",
       "1 -79.445947  Primrose Ave / Davenport Rd  2023-09-06T03:00:17.296000Z  \n",
       "2 -79.317693    Queen St. E / Rhodes Ave.  2023-09-06T03:00:17.296000Z  \n",
       "3 -79.376716         Bond St / Queen St E  2023-09-06T03:00:17.301000Z  \n",
       "4 -79.380288     Church St / Alexander St  2023-09-06T03:00:17.302000Z  "
      ]
     },
     "execution_count": 54,
     "metadata": {},
     "output_type": "execute_result"
    }
   ],
   "source": [
    "df_stations.head()"
   ]
  },
  {
   "cell_type": "code",
   "execution_count": 63,
   "metadata": {},
   "outputs": [],
   "source": [
    "df_stations.to_pickle(\"df_stations.pkl\")"
   ]
  },
  {
   "cell_type": "code",
   "execution_count": null,
   "metadata": {},
   "outputs": [],
   "source": []
  },
  {
   "cell_type": "code",
   "execution_count": null,
   "metadata": {},
   "outputs": [],
   "source": []
  }
 ],
 "metadata": {
  "kernelspec": {
   "display_name": "Python 3 (ipykernel)",
   "language": "python",
   "name": "python3"
  },
  "language_info": {
   "codemirror_mode": {
    "name": "ipython",
    "version": 3
   },
   "file_extension": ".py",
   "mimetype": "text/x-python",
   "name": "python",
   "nbconvert_exporter": "python",
   "pygments_lexer": "ipython3",
   "version": "3.9.13"
  }
 },
 "nbformat": 4,
 "nbformat_minor": 4
}
