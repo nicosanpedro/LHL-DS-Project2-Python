{
 "cells": [
  {
   "cell_type": "code",
   "execution_count": 1,
   "metadata": {},
   "outputs": [],
   "source": [
    "#Importing libraries\n",
    "import numpy as np\n",
    "import pandas as pd"
   ]
  },
  {
   "cell_type": "code",
   "execution_count": 9,
   "metadata": {},
   "outputs": [],
   "source": [
    "#address for the data\n",
    "data_address = \"/Users/nickelcobalt/lhl/projects/LHL-DS-Project2-Python/data/\""
   ]
  },
  {
   "cell_type": "markdown",
   "metadata": {},
   "source": [
    "# 1.0 Importing City Bikes, Foursquare and Yelp Dataframes"
   ]
  },
  {
   "cell_type": "markdown",
   "metadata": {},
   "source": [
    "#### City Bikes DF"
   ]
  },
  {
   "cell_type": "code",
   "execution_count": 10,
   "metadata": {},
   "outputs": [],
   "source": [
    "citybikes_df = pd.read_pickle(f\"{data_address}citybikes_df.pkl\") #Importing city bikes df"
   ]
  },
  {
   "cell_type": "code",
   "execution_count": 11,
   "metadata": {},
   "outputs": [
    {
     "data": {
      "text/html": [
       "<div>\n",
       "<style scoped>\n",
       "    .dataframe tbody tr th:only-of-type {\n",
       "        vertical-align: middle;\n",
       "    }\n",
       "\n",
       "    .dataframe tbody tr th {\n",
       "        vertical-align: top;\n",
       "    }\n",
       "\n",
       "    .dataframe thead th {\n",
       "        text-align: right;\n",
       "    }\n",
       "</style>\n",
       "<table border=\"1\" class=\"dataframe\">\n",
       "  <thead>\n",
       "    <tr style=\"text-align: right;\">\n",
       "      <th></th>\n",
       "      <th>bike_id</th>\n",
       "      <th>bike_lat</th>\n",
       "      <th>bike_lon</th>\n",
       "    </tr>\n",
       "  </thead>\n",
       "  <tbody>\n",
       "    <tr>\n",
       "      <th>0</th>\n",
       "      <td>fb337bbed72e2be090071e199899b2be</td>\n",
       "      <td>43.665269</td>\n",
       "      <td>-79.319796</td>\n",
       "    </tr>\n",
       "    <tr>\n",
       "      <th>1</th>\n",
       "      <td>4ff88d5880e71aa40d34cfe5d09b0ca7</td>\n",
       "      <td>43.671420</td>\n",
       "      <td>-79.445947</td>\n",
       "    </tr>\n",
       "    <tr>\n",
       "      <th>2</th>\n",
       "      <td>a09c67c0b419654d907c9134b108e328</td>\n",
       "      <td>43.666224</td>\n",
       "      <td>-79.317693</td>\n",
       "    </tr>\n",
       "    <tr>\n",
       "      <th>3</th>\n",
       "      <td>d6a9daee68070a8b106cfb598d81308c</td>\n",
       "      <td>43.653236</td>\n",
       "      <td>-79.376716</td>\n",
       "    </tr>\n",
       "    <tr>\n",
       "      <th>4</th>\n",
       "      <td>8f8af40d9388c8a3962559e8681d3db7</td>\n",
       "      <td>43.663722</td>\n",
       "      <td>-79.380288</td>\n",
       "    </tr>\n",
       "  </tbody>\n",
       "</table>\n",
       "</div>"
      ],
      "text/plain": [
       "                            bike_id   bike_lat   bike_lon\n",
       "0  fb337bbed72e2be090071e199899b2be  43.665269 -79.319796\n",
       "1  4ff88d5880e71aa40d34cfe5d09b0ca7  43.671420 -79.445947\n",
       "2  a09c67c0b419654d907c9134b108e328  43.666224 -79.317693\n",
       "3  d6a9daee68070a8b106cfb598d81308c  43.653236 -79.376716\n",
       "4  8f8af40d9388c8a3962559e8681d3db7  43.663722 -79.380288"
      ]
     },
     "execution_count": 11,
     "metadata": {},
     "output_type": "execute_result"
    }
   ],
   "source": [
    "citybikes_df.head()"
   ]
  },
  {
   "cell_type": "markdown",
   "metadata": {},
   "source": [
    "#### Foursquare DF"
   ]
  },
  {
   "cell_type": "code",
   "execution_count": 12,
   "metadata": {},
   "outputs": [],
   "source": [
    "fs_df = pd.read_pickle(f\"{data_address}fs_df.pkl\") #Importing foursquare df"
   ]
  },
  {
   "cell_type": "code",
   "execution_count": 13,
   "metadata": {},
   "outputs": [
    {
     "data": {
      "text/html": [
       "<div>\n",
       "<style scoped>\n",
       "    .dataframe tbody tr th:only-of-type {\n",
       "        vertical-align: middle;\n",
       "    }\n",
       "\n",
       "    .dataframe tbody tr th {\n",
       "        vertical-align: top;\n",
       "    }\n",
       "\n",
       "    .dataframe thead th {\n",
       "        text-align: right;\n",
       "    }\n",
       "</style>\n",
       "<table border=\"1\" class=\"dataframe\">\n",
       "  <thead>\n",
       "    <tr style=\"text-align: right;\">\n",
       "      <th></th>\n",
       "      <th>fs_id</th>\n",
       "      <th>fs_name</th>\n",
       "      <th>fs_category</th>\n",
       "      <th>fs_latitude</th>\n",
       "      <th>fs_longitude</th>\n",
       "      <th>fs_distance</th>\n",
       "    </tr>\n",
       "  </thead>\n",
       "  <tbody>\n",
       "    <tr>\n",
       "      <th>0</th>\n",
       "      <td>4ad9ebdcf964a520e61b21e3</td>\n",
       "      <td>Chick-N-Joy</td>\n",
       "      <td>Diner</td>\n",
       "      <td>43.665121</td>\n",
       "      <td>-79.321347</td>\n",
       "      <td>129</td>\n",
       "    </tr>\n",
       "    <tr>\n",
       "      <th>1</th>\n",
       "      <td>4bb2941814cfd13a8e2915ab</td>\n",
       "      <td>Morning Star Restaurant</td>\n",
       "      <td>Diner</td>\n",
       "      <td>43.669161</td>\n",
       "      <td>-79.442176</td>\n",
       "      <td>370</td>\n",
       "    </tr>\n",
       "    <tr>\n",
       "      <th>2</th>\n",
       "      <td>4b4d2e7bf964a52089cd26e3</td>\n",
       "      <td>Subway</td>\n",
       "      <td>Deli</td>\n",
       "      <td>43.666113</td>\n",
       "      <td>-79.316921</td>\n",
       "      <td>64</td>\n",
       "    </tr>\n",
       "    <tr>\n",
       "      <th>3</th>\n",
       "      <td>529e7344498e18bff5e60191</td>\n",
       "      <td>The Carbon Bar</td>\n",
       "      <td>Restaurant</td>\n",
       "      <td>43.653229</td>\n",
       "      <td>-79.374868</td>\n",
       "      <td>153</td>\n",
       "    </tr>\n",
       "    <tr>\n",
       "      <th>4</th>\n",
       "      <td>533d629b498e7452f4a50bda</td>\n",
       "      <td>North of Brooklyn Pizzeria</td>\n",
       "      <td>Pizzeria</td>\n",
       "      <td>43.664407</td>\n",
       "      <td>-79.380200</td>\n",
       "      <td>73</td>\n",
       "    </tr>\n",
       "  </tbody>\n",
       "</table>\n",
       "</div>"
      ],
      "text/plain": [
       "                      fs_id                     fs_name fs_category  \\\n",
       "0  4ad9ebdcf964a520e61b21e3                 Chick-N-Joy       Diner   \n",
       "1  4bb2941814cfd13a8e2915ab     Morning Star Restaurant       Diner   \n",
       "2  4b4d2e7bf964a52089cd26e3                      Subway        Deli   \n",
       "3  529e7344498e18bff5e60191              The Carbon Bar  Restaurant   \n",
       "4  533d629b498e7452f4a50bda  North of Brooklyn Pizzeria    Pizzeria   \n",
       "\n",
       "   fs_latitude  fs_longitude  fs_distance  \n",
       "0    43.665121    -79.321347          129  \n",
       "1    43.669161    -79.442176          370  \n",
       "2    43.666113    -79.316921           64  \n",
       "3    43.653229    -79.374868          153  \n",
       "4    43.664407    -79.380200           73  "
      ]
     },
     "execution_count": 13,
     "metadata": {},
     "output_type": "execute_result"
    }
   ],
   "source": [
    "fs_df.head()"
   ]
  },
  {
   "cell_type": "markdown",
   "metadata": {},
   "source": [
    "#### Yelp DF"
   ]
  },
  {
   "cell_type": "code",
   "execution_count": 14,
   "metadata": {},
   "outputs": [],
   "source": [
    "yelp_df = pd.read_pickle(f\"{data_address}yelp_df.pkl\") #Importing Yelp df"
   ]
  },
  {
   "cell_type": "code",
   "execution_count": 15,
   "metadata": {},
   "outputs": [
    {
     "data": {
      "text/html": [
       "<div>\n",
       "<style scoped>\n",
       "    .dataframe tbody tr th:only-of-type {\n",
       "        vertical-align: middle;\n",
       "    }\n",
       "\n",
       "    .dataframe tbody tr th {\n",
       "        vertical-align: top;\n",
       "    }\n",
       "\n",
       "    .dataframe thead th {\n",
       "        text-align: right;\n",
       "    }\n",
       "</style>\n",
       "<table border=\"1\" class=\"dataframe\">\n",
       "  <thead>\n",
       "    <tr style=\"text-align: right;\">\n",
       "      <th></th>\n",
       "      <th>yelp_id</th>\n",
       "      <th>yelp_name</th>\n",
       "      <th>yelp_category</th>\n",
       "      <th>yelp_longitude</th>\n",
       "      <th>yelp_latitude</th>\n",
       "      <th>yelp_distance</th>\n",
       "      <th>yelp_ratings</th>\n",
       "    </tr>\n",
       "  </thead>\n",
       "  <tbody>\n",
       "    <tr>\n",
       "      <th>0</th>\n",
       "      <td>Ohengzi4viLEXqhK50aLxg</td>\n",
       "      <td>Jaclyn's</td>\n",
       "      <td>Caribbean</td>\n",
       "      <td>43.66627</td>\n",
       "      <td>-79.31802</td>\n",
       "      <td>172.375134</td>\n",
       "      <td>4.5</td>\n",
       "    </tr>\n",
       "    <tr>\n",
       "      <th>1</th>\n",
       "      <td>a-Mo7Ipu_c5y21mmg0-F7g</td>\n",
       "      <td>Agio</td>\n",
       "      <td>Italian</td>\n",
       "      <td>43.67599</td>\n",
       "      <td>-79.45066</td>\n",
       "      <td>646.471211</td>\n",
       "      <td>4.5</td>\n",
       "    </tr>\n",
       "    <tr>\n",
       "      <th>2</th>\n",
       "      <td>Ohengzi4viLEXqhK50aLxg</td>\n",
       "      <td>Jaclyn's</td>\n",
       "      <td>Caribbean</td>\n",
       "      <td>43.66627</td>\n",
       "      <td>-79.31802</td>\n",
       "      <td>29.257263</td>\n",
       "      <td>4.5</td>\n",
       "    </tr>\n",
       "    <tr>\n",
       "      <th>3</th>\n",
       "      <td>qekAZVcOoJjMBnN5rJ_4fQ</td>\n",
       "      <td>The Rabbit Hole</td>\n",
       "      <td>Gastropubs</td>\n",
       "      <td>43.64995</td>\n",
       "      <td>-79.37976</td>\n",
       "      <td>426.288752</td>\n",
       "      <td>4.0</td>\n",
       "    </tr>\n",
       "    <tr>\n",
       "      <th>4</th>\n",
       "      <td>saijdv-vXJrvsCfvr7SZOw</td>\n",
       "      <td>Katsuya</td>\n",
       "      <td>Japanese</td>\n",
       "      <td>43.65995</td>\n",
       "      <td>-79.37882</td>\n",
       "      <td>432.975108</td>\n",
       "      <td>4.5</td>\n",
       "    </tr>\n",
       "  </tbody>\n",
       "</table>\n",
       "</div>"
      ],
      "text/plain": [
       "                  yelp_id        yelp_name yelp_category  yelp_longitude  \\\n",
       "0  Ohengzi4viLEXqhK50aLxg         Jaclyn's     Caribbean        43.66627   \n",
       "1  a-Mo7Ipu_c5y21mmg0-F7g             Agio       Italian        43.67599   \n",
       "2  Ohengzi4viLEXqhK50aLxg         Jaclyn's     Caribbean        43.66627   \n",
       "3  qekAZVcOoJjMBnN5rJ_4fQ  The Rabbit Hole    Gastropubs        43.64995   \n",
       "4  saijdv-vXJrvsCfvr7SZOw          Katsuya      Japanese        43.65995   \n",
       "\n",
       "   yelp_latitude  yelp_distance  yelp_ratings  \n",
       "0      -79.31802     172.375134           4.5  \n",
       "1      -79.45066     646.471211           4.5  \n",
       "2      -79.31802      29.257263           4.5  \n",
       "3      -79.37976     426.288752           4.0  \n",
       "4      -79.37882     432.975108           4.5  "
      ]
     },
     "execution_count": 15,
     "metadata": {},
     "output_type": "execute_result"
    }
   ],
   "source": [
    "yelp_df.head()"
   ]
  },
  {
   "cell_type": "markdown",
   "metadata": {},
   "source": [
    " "
   ]
  },
  {
   "cell_type": "markdown",
   "metadata": {},
   "source": [
    " "
   ]
  },
  {
   "cell_type": "markdown",
   "metadata": {},
   "source": [
    "## Selecting first 450 rows from City Bikes and Foursqare DF"
   ]
  },
  {
   "cell_type": "code",
   "execution_count": 8,
   "metadata": {},
   "outputs": [],
   "source": [
    "citybikes_df = citybikes_df.iloc[:450] #Selecting the first 450 rows of the citybikes df"
   ]
  },
  {
   "cell_type": "code",
   "execution_count": 9,
   "metadata": {},
   "outputs": [],
   "source": [
    "fs_df = fs_df.iloc[:450] #Selecting the first 450 rows of the foursquare df"
   ]
  },
  {
   "cell_type": "markdown",
   "metadata": {},
   "source": [
    " "
   ]
  },
  {
   "cell_type": "markdown",
   "metadata": {},
   "source": [
    " "
   ]
  },
  {
   "cell_type": "markdown",
   "metadata": {},
   "source": [
    "# 2.0 Joining All Dataframes"
   ]
  },
  {
   "cell_type": "markdown",
   "metadata": {},
   "source": [
    "1. As mentioned in the comments on yelp_foursquare_EDA.ipynb, the three dataframes that will be used here will be limited for 450 rows.\n",
    "2. There will be no need to match anything here, as mentioned in the previous notebook, the first row of foursquarea nd yelp df shall correspond to the first row of citybikes_df. Therefore, the first 450 rows of citybikes_df should match the first 450 rows of foursquare and yelp.\n",
    "3. Regarding duplicates, there will be duplicate restaurants on foursquare and yelp restaurants because these restaurants are the nearest business to the bike station that was used as a reference. \n",
    "4. If you would look closely on the SQL querry, I dealt with the duplicates and added constraints to the table. \n",
    "5. Can you please point out on the missing values?"
   ]
  },
  {
   "cell_type": "markdown",
   "metadata": {},
   "source": [
    "Join the data from Part 1 with the data from Part 2 to create a new dataframe."
   ]
  },
  {
   "cell_type": "code",
   "execution_count": 10,
   "metadata": {},
   "outputs": [],
   "source": [
    "#joining all df\n",
    "df = pd.concat([citybikes_df, fs_df, yelp_df], axis=1)"
   ]
  },
  {
   "cell_type": "code",
   "execution_count": 11,
   "metadata": {},
   "outputs": [
    {
     "data": {
      "text/html": [
       "<div>\n",
       "<style scoped>\n",
       "    .dataframe tbody tr th:only-of-type {\n",
       "        vertical-align: middle;\n",
       "    }\n",
       "\n",
       "    .dataframe tbody tr th {\n",
       "        vertical-align: top;\n",
       "    }\n",
       "\n",
       "    .dataframe thead th {\n",
       "        text-align: right;\n",
       "    }\n",
       "</style>\n",
       "<table border=\"1\" class=\"dataframe\">\n",
       "  <thead>\n",
       "    <tr style=\"text-align: right;\">\n",
       "      <th></th>\n",
       "      <th>bike_id</th>\n",
       "      <th>bike_lat</th>\n",
       "      <th>bike_lon</th>\n",
       "      <th>fs_id</th>\n",
       "      <th>fs_name</th>\n",
       "      <th>fs_category</th>\n",
       "      <th>fs_latitude</th>\n",
       "      <th>fs_longitude</th>\n",
       "      <th>fs_distance</th>\n",
       "      <th>yelp_id</th>\n",
       "      <th>yelp_name</th>\n",
       "      <th>yelp_category</th>\n",
       "      <th>yelp_longitude</th>\n",
       "      <th>yelp_latitude</th>\n",
       "      <th>yelp_distance</th>\n",
       "      <th>yelp_ratings</th>\n",
       "    </tr>\n",
       "  </thead>\n",
       "  <tbody>\n",
       "    <tr>\n",
       "      <th>0</th>\n",
       "      <td>fb337bbed72e2be090071e199899b2be</td>\n",
       "      <td>43.665269</td>\n",
       "      <td>-79.319796</td>\n",
       "      <td>4ad9ebdcf964a520e61b21e3</td>\n",
       "      <td>Chick-N-Joy</td>\n",
       "      <td>Diner</td>\n",
       "      <td>43.665121</td>\n",
       "      <td>-79.321347</td>\n",
       "      <td>129</td>\n",
       "      <td>Ohengzi4viLEXqhK50aLxg</td>\n",
       "      <td>Jaclyn's</td>\n",
       "      <td>Caribbean</td>\n",
       "      <td>43.66627</td>\n",
       "      <td>-79.31802</td>\n",
       "      <td>172.375134</td>\n",
       "      <td>4.5</td>\n",
       "    </tr>\n",
       "    <tr>\n",
       "      <th>1</th>\n",
       "      <td>4ff88d5880e71aa40d34cfe5d09b0ca7</td>\n",
       "      <td>43.671420</td>\n",
       "      <td>-79.445947</td>\n",
       "      <td>4bb2941814cfd13a8e2915ab</td>\n",
       "      <td>Morning Star Restaurant</td>\n",
       "      <td>Diner</td>\n",
       "      <td>43.669161</td>\n",
       "      <td>-79.442176</td>\n",
       "      <td>370</td>\n",
       "      <td>a-Mo7Ipu_c5y21mmg0-F7g</td>\n",
       "      <td>Agio</td>\n",
       "      <td>Italian</td>\n",
       "      <td>43.67599</td>\n",
       "      <td>-79.45066</td>\n",
       "      <td>646.471211</td>\n",
       "      <td>4.5</td>\n",
       "    </tr>\n",
       "    <tr>\n",
       "      <th>2</th>\n",
       "      <td>a09c67c0b419654d907c9134b108e328</td>\n",
       "      <td>43.666224</td>\n",
       "      <td>-79.317693</td>\n",
       "      <td>4b4d2e7bf964a52089cd26e3</td>\n",
       "      <td>Subway</td>\n",
       "      <td>Deli</td>\n",
       "      <td>43.666113</td>\n",
       "      <td>-79.316921</td>\n",
       "      <td>64</td>\n",
       "      <td>Ohengzi4viLEXqhK50aLxg</td>\n",
       "      <td>Jaclyn's</td>\n",
       "      <td>Caribbean</td>\n",
       "      <td>43.66627</td>\n",
       "      <td>-79.31802</td>\n",
       "      <td>29.257263</td>\n",
       "      <td>4.5</td>\n",
       "    </tr>\n",
       "    <tr>\n",
       "      <th>3</th>\n",
       "      <td>d6a9daee68070a8b106cfb598d81308c</td>\n",
       "      <td>43.653236</td>\n",
       "      <td>-79.376716</td>\n",
       "      <td>529e7344498e18bff5e60191</td>\n",
       "      <td>The Carbon Bar</td>\n",
       "      <td>Restaurant</td>\n",
       "      <td>43.653229</td>\n",
       "      <td>-79.374868</td>\n",
       "      <td>153</td>\n",
       "      <td>qekAZVcOoJjMBnN5rJ_4fQ</td>\n",
       "      <td>The Rabbit Hole</td>\n",
       "      <td>Gastropubs</td>\n",
       "      <td>43.64995</td>\n",
       "      <td>-79.37976</td>\n",
       "      <td>426.288752</td>\n",
       "      <td>4.0</td>\n",
       "    </tr>\n",
       "    <tr>\n",
       "      <th>4</th>\n",
       "      <td>8f8af40d9388c8a3962559e8681d3db7</td>\n",
       "      <td>43.663722</td>\n",
       "      <td>-79.380288</td>\n",
       "      <td>533d629b498e7452f4a50bda</td>\n",
       "      <td>North of Brooklyn Pizzeria</td>\n",
       "      <td>Pizzeria</td>\n",
       "      <td>43.664407</td>\n",
       "      <td>-79.380200</td>\n",
       "      <td>73</td>\n",
       "      <td>saijdv-vXJrvsCfvr7SZOw</td>\n",
       "      <td>Katsuya</td>\n",
       "      <td>Japanese</td>\n",
       "      <td>43.65995</td>\n",
       "      <td>-79.37882</td>\n",
       "      <td>432.975108</td>\n",
       "      <td>4.5</td>\n",
       "    </tr>\n",
       "  </tbody>\n",
       "</table>\n",
       "</div>"
      ],
      "text/plain": [
       "                            bike_id   bike_lat   bike_lon  \\\n",
       "0  fb337bbed72e2be090071e199899b2be  43.665269 -79.319796   \n",
       "1  4ff88d5880e71aa40d34cfe5d09b0ca7  43.671420 -79.445947   \n",
       "2  a09c67c0b419654d907c9134b108e328  43.666224 -79.317693   \n",
       "3  d6a9daee68070a8b106cfb598d81308c  43.653236 -79.376716   \n",
       "4  8f8af40d9388c8a3962559e8681d3db7  43.663722 -79.380288   \n",
       "\n",
       "                      fs_id                     fs_name fs_category  \\\n",
       "0  4ad9ebdcf964a520e61b21e3                 Chick-N-Joy       Diner   \n",
       "1  4bb2941814cfd13a8e2915ab     Morning Star Restaurant       Diner   \n",
       "2  4b4d2e7bf964a52089cd26e3                      Subway        Deli   \n",
       "3  529e7344498e18bff5e60191              The Carbon Bar  Restaurant   \n",
       "4  533d629b498e7452f4a50bda  North of Brooklyn Pizzeria    Pizzeria   \n",
       "\n",
       "   fs_latitude  fs_longitude  fs_distance                 yelp_id  \\\n",
       "0    43.665121    -79.321347          129  Ohengzi4viLEXqhK50aLxg   \n",
       "1    43.669161    -79.442176          370  a-Mo7Ipu_c5y21mmg0-F7g   \n",
       "2    43.666113    -79.316921           64  Ohengzi4viLEXqhK50aLxg   \n",
       "3    43.653229    -79.374868          153  qekAZVcOoJjMBnN5rJ_4fQ   \n",
       "4    43.664407    -79.380200           73  saijdv-vXJrvsCfvr7SZOw   \n",
       "\n",
       "         yelp_name yelp_category  yelp_longitude  yelp_latitude  \\\n",
       "0         Jaclyn's     Caribbean        43.66627      -79.31802   \n",
       "1             Agio       Italian        43.67599      -79.45066   \n",
       "2         Jaclyn's     Caribbean        43.66627      -79.31802   \n",
       "3  The Rabbit Hole    Gastropubs        43.64995      -79.37976   \n",
       "4          Katsuya      Japanese        43.65995      -79.37882   \n",
       "\n",
       "   yelp_distance  yelp_ratings  \n",
       "0     172.375134           4.5  \n",
       "1     646.471211           4.5  \n",
       "2      29.257263           4.5  \n",
       "3     426.288752           4.0  \n",
       "4     432.975108           4.5  "
      ]
     },
     "execution_count": 11,
     "metadata": {},
     "output_type": "execute_result"
    }
   ],
   "source": [
    "df.head()"
   ]
  },
  {
   "cell_type": "code",
   "execution_count": null,
   "metadata": {},
   "outputs": [],
   "source": []
  },
  {
   "cell_type": "markdown",
   "metadata": {},
   "source": [
    " "
   ]
  },
  {
   "cell_type": "markdown",
   "metadata": {},
   "source": [
    " "
   ]
  },
  {
   "cell_type": "markdown",
   "metadata": {},
   "source": [
    "# 3.0 EDA"
   ]
  },
  {
   "cell_type": "markdown",
   "metadata": {},
   "source": [
    "Provide a visualization that you used as part of your EDA process. Explain the initial pattern or relationship you discoved through this visualization. "
   ]
  },
  {
   "cell_type": "code",
   "execution_count": 12,
   "metadata": {},
   "outputs": [],
   "source": [
    "import matplotlib.pyplot as plt"
   ]
  },
  {
   "cell_type": "markdown",
   "metadata": {},
   "source": [
    "### 3.1 Top Categories Search Result"
   ]
  },
  {
   "cell_type": "code",
   "execution_count": 13,
   "metadata": {},
   "outputs": [],
   "source": [
    "#Top 10 Categories Result for Foursquare and Yelp\n",
    "fs_category_top10 = df[\"fs_category\"].value_counts().head(10)\n",
    "yelp_category_top10 = df[\"yelp_category\"].value_counts().head(10)"
   ]
  },
  {
   "cell_type": "code",
   "execution_count": 14,
   "metadata": {},
   "outputs": [
    {
     "data": {
      "image/png": "[encoded data removed]",
      "text/plain": [
       "<Figure size 640x480 with 2 Axes>"
      ]
     },
     "metadata": {},
     "output_type": "display_data"
    }
   ],
   "source": [
    "#Foursquare plot\n",
    "plt.subplot(1,3,1)\n",
    "plt.bar(fs_category_top10.index, fs_category_top10.values)\n",
    "plt.title(\"Foursquare \\nCategories\", weight=\"bold\", loc=\"center\")\n",
    "plt.xlabel(\"Fig. 1\")\n",
    "plt.xticks(rotation=90)\n",
    "\n",
    "#Yelp Plot\n",
    "plt.subplot(1,3,3)\n",
    "plt.bar(yelp_category_top10.index, yelp_category_top10.values)\n",
    "plt.title(\"Yelp Categories\", weight=\"bold\")\n",
    "plt.xlabel(\"Fig. 2\")\n",
    "plt.xticks(rotation=90)\n",
    "\n",
    "plt.show()"
   ]
  },
  {
   "cell_type": "markdown",
   "metadata": {},
   "source": [
    "1. Based on the bar figures above, the result from Foursquare API call is more detailed on what the restaurant offers while the results from Yelp API call is more on the general type of restaurant."
   ]
  },
  {
   "cell_type": "markdown",
   "metadata": {},
   "source": [
    " "
   ]
  },
  {
   "cell_type": "markdown",
   "metadata": {},
   "source": [
    " "
   ]
  },
  {
   "cell_type": "markdown",
   "metadata": {},
   "source": [
    "### 3.2 Proximity to the Bike Location"
   ]
  },
  {
   "cell_type": "code",
   "execution_count": 15,
   "metadata": {},
   "outputs": [
    {
     "data": {
      "image/png": "[encoded data removed]",
      "text/plain": [
       "<Figure size 1500x400 with 1 Axes>"
      ]
     },
     "metadata": {},
     "output_type": "display_data"
    }
   ],
   "source": [
    "station = [i for i in range(len(df))] #Generate station number\n",
    "fs_distance = df[\"fs_distance\"] #fs restaurants distance from the bike station\n",
    "yelp_distance = df[\"yelp_distance\"] #yelp restaurants distance from the bike station\n",
    "\n",
    "\n",
    "#Distance Away from the Bike Station plot\n",
    "plt.figure(figsize=(15,4))\n",
    "plt.plot(station, yelp_distance, label=\"Yelp\")\n",
    "plt.plot(station, fs_distance, label=\"Foursquare\")\n",
    "plt.title(\"Distance Away from the Bike Station\", weight=\"bold\")\n",
    "plt.ylabel(\"meters\")\n",
    "plt.xlabel(\"Station Number\")\n",
    "\n",
    "plt.legend()\n",
    "\n",
    "\n",
    "plt.show()"
   ]
  },
  {
   "cell_type": "markdown",
   "metadata": {},
   "source": [
    "1. The restaurants from Foursquare API call are generally closer to the bike station than the restaurants that showed up on Yelp API call.\n",
    "2. The distance of restaurants from Yelp are as likely as twice as farther from the bike station compared to the restaurants from Foursquare API call."
   ]
  },
  {
   "cell_type": "markdown",
   "metadata": {},
   "source": [
    " "
   ]
  },
  {
   "cell_type": "markdown",
   "metadata": {},
   "source": [
    "# 4.0 Database"
   ]
  },
  {
   "cell_type": "markdown",
   "metadata": {},
   "source": [
    "Put all your results in an SQLite3 database (remember, SQLite stores its databases as files in your local machine - make sure to create your database in your project's data/ directory!)"
   ]
  },
  {
   "cell_type": "code",
   "execution_count": 16,
   "metadata": {},
   "outputs": [
    {
     "data": {
      "text/html": [
       "<div>\n",
       "<style scoped>\n",
       "    .dataframe tbody tr th:only-of-type {\n",
       "        vertical-align: middle;\n",
       "    }\n",
       "\n",
       "    .dataframe tbody tr th {\n",
       "        vertical-align: top;\n",
       "    }\n",
       "\n",
       "    .dataframe thead th {\n",
       "        text-align: right;\n",
       "    }\n",
       "</style>\n",
       "<table border=\"1\" class=\"dataframe\">\n",
       "  <thead>\n",
       "    <tr style=\"text-align: right;\">\n",
       "      <th></th>\n",
       "      <th>bike_id</th>\n",
       "      <th>bike_lat</th>\n",
       "      <th>bike_lon</th>\n",
       "    </tr>\n",
       "  </thead>\n",
       "  <tbody>\n",
       "    <tr>\n",
       "      <th>0</th>\n",
       "      <td>fb337bbed72e2be090071e199899b2be</td>\n",
       "      <td>43.665269</td>\n",
       "      <td>-79.319796</td>\n",
       "    </tr>\n",
       "    <tr>\n",
       "      <th>1</th>\n",
       "      <td>4ff88d5880e71aa40d34cfe5d09b0ca7</td>\n",
       "      <td>43.671420</td>\n",
       "      <td>-79.445947</td>\n",
       "    </tr>\n",
       "    <tr>\n",
       "      <th>2</th>\n",
       "      <td>a09c67c0b419654d907c9134b108e328</td>\n",
       "      <td>43.666224</td>\n",
       "      <td>-79.317693</td>\n",
       "    </tr>\n",
       "    <tr>\n",
       "      <th>3</th>\n",
       "      <td>d6a9daee68070a8b106cfb598d81308c</td>\n",
       "      <td>43.653236</td>\n",
       "      <td>-79.376716</td>\n",
       "    </tr>\n",
       "    <tr>\n",
       "      <th>4</th>\n",
       "      <td>8f8af40d9388c8a3962559e8681d3db7</td>\n",
       "      <td>43.663722</td>\n",
       "      <td>-79.380288</td>\n",
       "    </tr>\n",
       "    <tr>\n",
       "      <th>...</th>\n",
       "      <td>...</td>\n",
       "      <td>...</td>\n",
       "      <td>...</td>\n",
       "    </tr>\n",
       "    <tr>\n",
       "      <th>445</th>\n",
       "      <td>e473bffc39f79fdd42e27583ccbe0709</td>\n",
       "      <td>43.654124</td>\n",
       "      <td>-79.463639</td>\n",
       "    </tr>\n",
       "    <tr>\n",
       "      <th>446</th>\n",
       "      <td>3d71c9ff5bcbaad794a49115e11786e3</td>\n",
       "      <td>43.680207</td>\n",
       "      <td>-79.339243</td>\n",
       "    </tr>\n",
       "    <tr>\n",
       "      <th>447</th>\n",
       "      <td>fea3f9dfbcc18225728f10913c5d3d5b</td>\n",
       "      <td>43.658988</td>\n",
       "      <td>-79.438715</td>\n",
       "    </tr>\n",
       "    <tr>\n",
       "      <th>448</th>\n",
       "      <td>f3a880cb5277285662d2d68f5523488d</td>\n",
       "      <td>43.674122</td>\n",
       "      <td>-79.435221</td>\n",
       "    </tr>\n",
       "    <tr>\n",
       "      <th>449</th>\n",
       "      <td>844d02b2b7dfdabf7bd044c3edf050d5</td>\n",
       "      <td>43.646993</td>\n",
       "      <td>-79.370666</td>\n",
       "    </tr>\n",
       "  </tbody>\n",
       "</table>\n",
       "<p>450 rows × 3 columns</p>\n",
       "</div>"
      ],
      "text/plain": [
       "                              bike_id   bike_lat   bike_lon\n",
       "0    fb337bbed72e2be090071e199899b2be  43.665269 -79.319796\n",
       "1    4ff88d5880e71aa40d34cfe5d09b0ca7  43.671420 -79.445947\n",
       "2    a09c67c0b419654d907c9134b108e328  43.666224 -79.317693\n",
       "3    d6a9daee68070a8b106cfb598d81308c  43.653236 -79.376716\n",
       "4    8f8af40d9388c8a3962559e8681d3db7  43.663722 -79.380288\n",
       "..                                ...        ...        ...\n",
       "445  e473bffc39f79fdd42e27583ccbe0709  43.654124 -79.463639\n",
       "446  3d71c9ff5bcbaad794a49115e11786e3  43.680207 -79.339243\n",
       "447  fea3f9dfbcc18225728f10913c5d3d5b  43.658988 -79.438715\n",
       "448  f3a880cb5277285662d2d68f5523488d  43.674122 -79.435221\n",
       "449  844d02b2b7dfdabf7bd044c3edf050d5  43.646993 -79.370666\n",
       "\n",
       "[450 rows x 3 columns]"
      ]
     },
     "execution_count": 16,
     "metadata": {},
     "output_type": "execute_result"
    }
   ],
   "source": [
    "citybikes_df"
   ]
  },
  {
   "cell_type": "markdown",
   "metadata": {},
   "source": [
    "Look at the data before and after the join to validate your data."
   ]
  },
  {
   "cell_type": "code",
   "execution_count": 17,
   "metadata": {},
   "outputs": [],
   "source": [
    "db_columns_citybikes = list(citybikes_df.columns)\n",
    "db_columns_fs = list(fs_df.columns)\n",
    "db_columns_yelp = list(yelp_df.columns)"
   ]
  },
  {
   "cell_type": "code",
   "execution_count": 18,
   "metadata": {},
   "outputs": [
    {
     "data": {
      "text/plain": [
       "['bike_id', 'bike_lat', 'bike_lon']"
      ]
     },
     "execution_count": 18,
     "metadata": {},
     "output_type": "execute_result"
    }
   ],
   "source": [
    "#City Bikes Columns\n",
    "db_columns_citybikes"
   ]
  },
  {
   "cell_type": "code",
   "execution_count": 19,
   "metadata": {},
   "outputs": [
    {
     "data": {
      "text/plain": [
       "['fs_id',\n",
       " 'fs_name',\n",
       " 'fs_category',\n",
       " 'fs_latitude',\n",
       " 'fs_longitude',\n",
       " 'fs_distance']"
      ]
     },
     "execution_count": 19,
     "metadata": {},
     "output_type": "execute_result"
    }
   ],
   "source": [
    "#Foursquare Columns\n",
    "db_columns_fs"
   ]
  },
  {
   "cell_type": "code",
   "execution_count": 20,
   "metadata": {},
   "outputs": [
    {
     "data": {
      "text/plain": [
       "['yelp_id',\n",
       " 'yelp_name',\n",
       " 'yelp_category',\n",
       " 'yelp_longitude',\n",
       " 'yelp_latitude',\n",
       " 'yelp_distance',\n",
       " 'yelp_ratings']"
      ]
     },
     "execution_count": 20,
     "metadata": {},
     "output_type": "execute_result"
    }
   ],
   "source": [
    "#Yelp Columns\n",
    "db_columns_yelp"
   ]
  },
  {
   "cell_type": "markdown",
   "metadata": {},
   "source": [
    " "
   ]
  },
  {
   "cell_type": "markdown",
   "metadata": {},
   "source": [
    "### 4.2 Filtering all unique rows "
   ]
  },
  {
   "cell_type": "code",
   "execution_count": 21,
   "metadata": {},
   "outputs": [],
   "source": [
    "fs_df_unique_index = fs_df[\"fs_id\"].drop_duplicates().index\n",
    "yelp_df_unique_index = yelp_df[\"yelp_id\"].drop_duplicates().index\n",
    "citybikes_df_unique_index = citybikes_df[\"bike_id\"].drop_duplicates().index"
   ]
  },
  {
   "cell_type": "markdown",
   "metadata": {},
   "source": [
    "#### City Bikes Stations Unique Rows"
   ]
  },
  {
   "cell_type": "code",
   "execution_count": 22,
   "metadata": {},
   "outputs": [
    {
     "data": {
      "text/html": [
       "<div>\n",
       "<style scoped>\n",
       "    .dataframe tbody tr th:only-of-type {\n",
       "        vertical-align: middle;\n",
       "    }\n",
       "\n",
       "    .dataframe tbody tr th {\n",
       "        vertical-align: top;\n",
       "    }\n",
       "\n",
       "    .dataframe thead th {\n",
       "        text-align: right;\n",
       "    }\n",
       "</style>\n",
       "<table border=\"1\" class=\"dataframe\">\n",
       "  <thead>\n",
       "    <tr style=\"text-align: right;\">\n",
       "      <th></th>\n",
       "      <th>bike_id</th>\n",
       "      <th>bike_lat</th>\n",
       "      <th>bike_lon</th>\n",
       "    </tr>\n",
       "  </thead>\n",
       "  <tbody>\n",
       "    <tr>\n",
       "      <th>0</th>\n",
       "      <td>fb337bbed72e2be090071e199899b2be</td>\n",
       "      <td>43.665269</td>\n",
       "      <td>-79.319796</td>\n",
       "    </tr>\n",
       "    <tr>\n",
       "      <th>1</th>\n",
       "      <td>4ff88d5880e71aa40d34cfe5d09b0ca7</td>\n",
       "      <td>43.671420</td>\n",
       "      <td>-79.445947</td>\n",
       "    </tr>\n",
       "    <tr>\n",
       "      <th>2</th>\n",
       "      <td>a09c67c0b419654d907c9134b108e328</td>\n",
       "      <td>43.666224</td>\n",
       "      <td>-79.317693</td>\n",
       "    </tr>\n",
       "    <tr>\n",
       "      <th>3</th>\n",
       "      <td>d6a9daee68070a8b106cfb598d81308c</td>\n",
       "      <td>43.653236</td>\n",
       "      <td>-79.376716</td>\n",
       "    </tr>\n",
       "    <tr>\n",
       "      <th>4</th>\n",
       "      <td>8f8af40d9388c8a3962559e8681d3db7</td>\n",
       "      <td>43.663722</td>\n",
       "      <td>-79.380288</td>\n",
       "    </tr>\n",
       "  </tbody>\n",
       "</table>\n",
       "</div>"
      ],
      "text/plain": [
       "                            bike_id   bike_lat   bike_lon\n",
       "0  fb337bbed72e2be090071e199899b2be  43.665269 -79.319796\n",
       "1  4ff88d5880e71aa40d34cfe5d09b0ca7  43.671420 -79.445947\n",
       "2  a09c67c0b419654d907c9134b108e328  43.666224 -79.317693\n",
       "3  d6a9daee68070a8b106cfb598d81308c  43.653236 -79.376716\n",
       "4  8f8af40d9388c8a3962559e8681d3db7  43.663722 -79.380288"
      ]
     },
     "execution_count": 22,
     "metadata": {},
     "output_type": "execute_result"
    }
   ],
   "source": [
    "citybikes_df_unique = citybikes_df.loc[citybikes_df_unique_index]\n",
    "citybikes_df_unique.head()"
   ]
  },
  {
   "cell_type": "markdown",
   "metadata": {},
   "source": [
    "#### Foursquare API Unique Rows"
   ]
  },
  {
   "cell_type": "code",
   "execution_count": 23,
   "metadata": {
    "scrolled": true
   },
   "outputs": [
    {
     "data": {
      "text/html": [
       "<div>\n",
       "<style scoped>\n",
       "    .dataframe tbody tr th:only-of-type {\n",
       "        vertical-align: middle;\n",
       "    }\n",
       "\n",
       "    .dataframe tbody tr th {\n",
       "        vertical-align: top;\n",
       "    }\n",
       "\n",
       "    .dataframe thead th {\n",
       "        text-align: right;\n",
       "    }\n",
       "</style>\n",
       "<table border=\"1\" class=\"dataframe\">\n",
       "  <thead>\n",
       "    <tr style=\"text-align: right;\">\n",
       "      <th></th>\n",
       "      <th>fs_id</th>\n",
       "      <th>fs_name</th>\n",
       "      <th>fs_category</th>\n",
       "      <th>fs_latitude</th>\n",
       "      <th>fs_longitude</th>\n",
       "      <th>fs_distance</th>\n",
       "    </tr>\n",
       "  </thead>\n",
       "  <tbody>\n",
       "    <tr>\n",
       "      <th>0</th>\n",
       "      <td>4ad9ebdcf964a520e61b21e3</td>\n",
       "      <td>Chick-N-Joy</td>\n",
       "      <td>Diner</td>\n",
       "      <td>43.665121</td>\n",
       "      <td>-79.321347</td>\n",
       "      <td>129</td>\n",
       "    </tr>\n",
       "    <tr>\n",
       "      <th>1</th>\n",
       "      <td>4bb2941814cfd13a8e2915ab</td>\n",
       "      <td>Morning Star Restaurant</td>\n",
       "      <td>Diner</td>\n",
       "      <td>43.669161</td>\n",
       "      <td>-79.442176</td>\n",
       "      <td>370</td>\n",
       "    </tr>\n",
       "    <tr>\n",
       "      <th>2</th>\n",
       "      <td>4b4d2e7bf964a52089cd26e3</td>\n",
       "      <td>Subway</td>\n",
       "      <td>Deli</td>\n",
       "      <td>43.666113</td>\n",
       "      <td>-79.316921</td>\n",
       "      <td>64</td>\n",
       "    </tr>\n",
       "    <tr>\n",
       "      <th>3</th>\n",
       "      <td>529e7344498e18bff5e60191</td>\n",
       "      <td>The Carbon Bar</td>\n",
       "      <td>Restaurant</td>\n",
       "      <td>43.653229</td>\n",
       "      <td>-79.374868</td>\n",
       "      <td>153</td>\n",
       "    </tr>\n",
       "    <tr>\n",
       "      <th>4</th>\n",
       "      <td>533d629b498e7452f4a50bda</td>\n",
       "      <td>North of Brooklyn Pizzeria</td>\n",
       "      <td>Pizzeria</td>\n",
       "      <td>43.664407</td>\n",
       "      <td>-79.380200</td>\n",
       "      <td>73</td>\n",
       "    </tr>\n",
       "  </tbody>\n",
       "</table>\n",
       "</div>"
      ],
      "text/plain": [
       "                      fs_id                     fs_name fs_category  \\\n",
       "0  4ad9ebdcf964a520e61b21e3                 Chick-N-Joy       Diner   \n",
       "1  4bb2941814cfd13a8e2915ab     Morning Star Restaurant       Diner   \n",
       "2  4b4d2e7bf964a52089cd26e3                      Subway        Deli   \n",
       "3  529e7344498e18bff5e60191              The Carbon Bar  Restaurant   \n",
       "4  533d629b498e7452f4a50bda  North of Brooklyn Pizzeria    Pizzeria   \n",
       "\n",
       "   fs_latitude  fs_longitude  fs_distance  \n",
       "0    43.665121    -79.321347          129  \n",
       "1    43.669161    -79.442176          370  \n",
       "2    43.666113    -79.316921           64  \n",
       "3    43.653229    -79.374868          153  \n",
       "4    43.664407    -79.380200           73  "
      ]
     },
     "execution_count": 23,
     "metadata": {},
     "output_type": "execute_result"
    }
   ],
   "source": [
    "fs_df_unique = fs_df.loc[fs_df_unique_index] #Cleaning the non-unique rows\n",
    "fs_df_unique.head()"
   ]
  },
  {
   "cell_type": "markdown",
   "metadata": {},
   "source": [
    "#### Yelp API Unique Rows"
   ]
  },
  {
   "cell_type": "code",
   "execution_count": 24,
   "metadata": {},
   "outputs": [
    {
     "data": {
      "text/html": [
       "<div>\n",
       "<style scoped>\n",
       "    .dataframe tbody tr th:only-of-type {\n",
       "        vertical-align: middle;\n",
       "    }\n",
       "\n",
       "    .dataframe tbody tr th {\n",
       "        vertical-align: top;\n",
       "    }\n",
       "\n",
       "    .dataframe thead th {\n",
       "        text-align: right;\n",
       "    }\n",
       "</style>\n",
       "<table border=\"1\" class=\"dataframe\">\n",
       "  <thead>\n",
       "    <tr style=\"text-align: right;\">\n",
       "      <th></th>\n",
       "      <th>yelp_id</th>\n",
       "      <th>yelp_name</th>\n",
       "      <th>yelp_category</th>\n",
       "      <th>yelp_longitude</th>\n",
       "      <th>yelp_latitude</th>\n",
       "      <th>yelp_distance</th>\n",
       "      <th>yelp_ratings</th>\n",
       "    </tr>\n",
       "  </thead>\n",
       "  <tbody>\n",
       "    <tr>\n",
       "      <th>0</th>\n",
       "      <td>Ohengzi4viLEXqhK50aLxg</td>\n",
       "      <td>Jaclyn's</td>\n",
       "      <td>Caribbean</td>\n",
       "      <td>43.66627</td>\n",
       "      <td>-79.31802</td>\n",
       "      <td>172.375134</td>\n",
       "      <td>4.5</td>\n",
       "    </tr>\n",
       "    <tr>\n",
       "      <th>1</th>\n",
       "      <td>a-Mo7Ipu_c5y21mmg0-F7g</td>\n",
       "      <td>Agio</td>\n",
       "      <td>Italian</td>\n",
       "      <td>43.67599</td>\n",
       "      <td>-79.45066</td>\n",
       "      <td>646.471211</td>\n",
       "      <td>4.5</td>\n",
       "    </tr>\n",
       "    <tr>\n",
       "      <th>3</th>\n",
       "      <td>qekAZVcOoJjMBnN5rJ_4fQ</td>\n",
       "      <td>The Rabbit Hole</td>\n",
       "      <td>Gastropubs</td>\n",
       "      <td>43.64995</td>\n",
       "      <td>-79.37976</td>\n",
       "      <td>426.288752</td>\n",
       "      <td>4.0</td>\n",
       "    </tr>\n",
       "    <tr>\n",
       "      <th>4</th>\n",
       "      <td>saijdv-vXJrvsCfvr7SZOw</td>\n",
       "      <td>Katsuya</td>\n",
       "      <td>Japanese</td>\n",
       "      <td>43.65995</td>\n",
       "      <td>-79.37882</td>\n",
       "      <td>432.975108</td>\n",
       "      <td>4.5</td>\n",
       "    </tr>\n",
       "    <tr>\n",
       "      <th>5</th>\n",
       "      <td>cbAVxQjvujfZU0RvqAmtzg</td>\n",
       "      <td>Mogouyan Hand-Pulled Noodles</td>\n",
       "      <td>Noodles</td>\n",
       "      <td>43.65573</td>\n",
       "      <td>-79.38449</td>\n",
       "      <td>442.326460</td>\n",
       "      <td>4.5</td>\n",
       "    </tr>\n",
       "  </tbody>\n",
       "</table>\n",
       "</div>"
      ],
      "text/plain": [
       "                  yelp_id                     yelp_name yelp_category  \\\n",
       "0  Ohengzi4viLEXqhK50aLxg                      Jaclyn's     Caribbean   \n",
       "1  a-Mo7Ipu_c5y21mmg0-F7g                          Agio       Italian   \n",
       "3  qekAZVcOoJjMBnN5rJ_4fQ               The Rabbit Hole    Gastropubs   \n",
       "4  saijdv-vXJrvsCfvr7SZOw                       Katsuya      Japanese   \n",
       "5  cbAVxQjvujfZU0RvqAmtzg  Mogouyan Hand-Pulled Noodles       Noodles   \n",
       "\n",
       "   yelp_longitude  yelp_latitude  yelp_distance  yelp_ratings  \n",
       "0        43.66627      -79.31802     172.375134           4.5  \n",
       "1        43.67599      -79.45066     646.471211           4.5  \n",
       "3        43.64995      -79.37976     426.288752           4.0  \n",
       "4        43.65995      -79.37882     432.975108           4.5  \n",
       "5        43.65573      -79.38449     442.326460           4.5  "
      ]
     },
     "execution_count": 24,
     "metadata": {},
     "output_type": "execute_result"
    }
   ],
   "source": [
    "yelp_df_unique = yelp_df.loc[yelp_df_unique_index] #Cleaning the non-unique rows\n",
    "yelp_df_unique.head()"
   ]
  },
  {
   "cell_type": "markdown",
   "metadata": {},
   "source": [
    " "
   ]
  },
  {
   "cell_type": "markdown",
   "metadata": {},
   "source": [
    " "
   ]
  },
  {
   "cell_type": "markdown",
   "metadata": {},
   "source": [
    " ### 4.3 Establishing SQLite 3 Connection"
   ]
  },
  {
   "cell_type": "code",
   "execution_count": 25,
   "metadata": {},
   "outputs": [],
   "source": [
    "import sqlite3"
   ]
  },
  {
   "cell_type": "code",
   "execution_count": 26,
   "metadata": {},
   "outputs": [],
   "source": [
    "connection = sqlite3.connect('lhl-ds-project2-python.db') #connection object\n",
    "cursor = connection.cursor() #cursor object"
   ]
  },
  {
   "cell_type": "code",
   "execution_count": 27,
   "metadata": {},
   "outputs": [
    {
     "data": {
      "text/plain": [
       "155"
      ]
     },
     "execution_count": 27,
     "metadata": {},
     "output_type": "execute_result"
    }
   ],
   "source": [
    "citybikes_df_unique.to_sql('citybikes_table', connection, if_exists='replace', index=False) #cleaned citybikes df\n",
    "fs_df_unique.to_sql('fs_table', connection, if_exists='replace', index=False) #cleaned foursquare df\n",
    "yelp_df_unique.to_sql('yelp_table', connection, if_exists='replace', index=False) #cleaned yelp df"
   ]
  },
  {
   "cell_type": "markdown",
   "metadata": {},
   "source": [
    "### City Bikes Table"
   ]
  },
  {
   "cell_type": "code",
   "execution_count": 28,
   "metadata": {},
   "outputs": [
    {
     "data": {
      "text/plain": [
       "450"
      ]
     },
     "execution_count": 28,
     "metadata": {},
     "output_type": "execute_result"
    }
   ],
   "source": [
    "#Create citybikes table\n",
    "citybikes_table = \"\"\"\n",
    "CREATE TABLE IF NOT EXISTS citybikes_table(\n",
    "    citybikes_id TEXT PRIMARY KEY,\n",
    "    citybikes_latitude NUMBER,\n",
    "    citybikes_longitude NUMBER);\n",
    "\"\"\"\n",
    "cursor.execute(citybikes_table)\n",
    "\n",
    "#Copying the df to the sql table\n",
    "citybikes_df_unique.to_sql(\"citybikes_table\", connection, if_exists=\"append\", index=False)"
   ]
  },
  {
   "cell_type": "markdown",
   "metadata": {},
   "source": [
    "### Foursquare Table"
   ]
  },
  {
   "cell_type": "code",
   "execution_count": 29,
   "metadata": {},
   "outputs": [
    {
     "data": {
      "text/plain": [
       "342"
      ]
     },
     "execution_count": 29,
     "metadata": {},
     "output_type": "execute_result"
    }
   ],
   "source": [
    "#Create foursquare table\n",
    "fs_table = \"\"\"\n",
    "CREATE TABLE IF NOT EXISTS fs_table (\n",
    "    fs_id TEXT PRIMARY KEY,\n",
    "    fs_name TEXT,\n",
    "    fs_category TEXT,\n",
    "    fs_latitude NUMBER,\n",
    "    fs_longitude NUMBER,\n",
    "    fs_distance NUMBER);\n",
    "\"\"\"\n",
    "cursor.execute(fs_table)\n",
    "\n",
    "#Copying the df to the sql table\n",
    "fs_df_unique.to_sql('fs_table', connection, if_exists='append', index=False)"
   ]
  },
  {
   "cell_type": "markdown",
   "metadata": {},
   "source": [
    "### Yelp Table"
   ]
  },
  {
   "cell_type": "code",
   "execution_count": 30,
   "metadata": {},
   "outputs": [
    {
     "data": {
      "text/plain": [
       "155"
      ]
     },
     "execution_count": 30,
     "metadata": {},
     "output_type": "execute_result"
    }
   ],
   "source": [
    "#Create yelp table\n",
    "yelp_table = \"\"\"\n",
    "CREATE TABLE IF NOT EXISTS yelp_table (\n",
    "    yelp_id TEXT PRIMARY KEY,\n",
    "    yelp_name TEXT,\n",
    "    yelp_category TEXT,\n",
    "    yelp_longitude NUMBER,\n",
    "    yelp_latitude NUMBER,\n",
    "    yelp_distance NUMBER,\n",
    "    yelp_ratings NUMBER);\n",
    "\"\"\"\n",
    "cursor.execute(yelp_table)\n",
    "\n",
    "#Copying the df to the sql table\n",
    "yelp_df_unique.to_sql(\"yelp_table\", connection, if_exists=\"append\", index=False)"
   ]
  },
  {
   "cell_type": "code",
   "execution_count": 31,
   "metadata": {},
   "outputs": [],
   "source": [
    "connection.close() #closing sql connection"
   ]
  },
  {
   "cell_type": "markdown",
   "metadata": {},
   "source": [
    "#### READING A SQL TABLE FROM SQLITE3 TO PANDAS DATAFRAME"
   ]
  },
  {
   "cell_type": "code",
   "execution_count": null,
   "metadata": {},
   "outputs": [],
   "source": [
    "# SQL_DF = pd.read_sql_query(\"SELECT * FROM citybikes_table\", conn)"
   ]
  },
  {
   "cell_type": "markdown",
   "metadata": {},
   "source": [
    "#### DROPPING A TABLE ON SQLITE3"
   ]
  },
  {
   "cell_type": "code",
   "execution_count": 178,
   "metadata": {},
   "outputs": [],
   "source": [
    "# cursor = connection.cursor()"
   ]
  },
  {
   "cell_type": "code",
   "execution_count": 176,
   "metadata": {},
   "outputs": [],
   "source": [
    "# cursor.execute(\"DROP TABLE IF EXISTS fs_db\")"
   ]
  },
  {
   "cell_type": "code",
   "execution_count": 177,
   "metadata": {},
   "outputs": [],
   "source": [
    "# connection.commit()"
   ]
  }
 ],
 "metadata": {
  "kernelspec": {
   "display_name": "Python 3 (ipykernel)",
   "language": "python",
   "name": "python3"
  },
  "language_info": {
   "codemirror_mode": {
    "name": "ipython",
    "version": 3
   },
   "file_extension": ".py",
   "mimetype": "text/x-python",
   "name": "python",
   "nbconvert_exporter": "python",
   "pygments_lexer": "ipython3",
   "version": "3.9.13"
  }
 },
 "nbformat": 4,
 "nbformat_minor": 4
}
